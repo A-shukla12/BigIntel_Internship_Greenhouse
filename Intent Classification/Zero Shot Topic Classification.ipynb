{
 "cells": [
  {
   "cell_type": "markdown",
   "id": "7e170f65-6ace-48db-bf6a-da5f7a166ba1",
   "metadata": {},
   "source": [
    "<h2 align=center>Zero Shot Learning for Topic Modelling with Keywords</h2>\n",
    "\n",
    "\n",
    "In this notebook we will be performing the task of assigning label names to keywords by using Zero Shot Learning. The approach has been tested on different datasets and the results generated as keywords with their assigned labl names with their corresponding accuracy score. \n",
    "\n",
    "This project/notebook consists of several Tasks.\n",
    "\n",
    "- **[Task 1]()**: Importing the required libraries in the environment.\n",
    "- **[Task ]()**: Instantiating the classifier by using huggingface pipeline\n",
    "- **[Task 4]()**: Forming Class Names to which the keywords will be assigned to\n",
    "- **[Task 5]()**: Passing the keywords and the class names through the classifier\n",
    "- **[Task 6]()**: Analysis of the labels assigned to keywords"
   ]
  },
  {
   "cell_type": "markdown",
   "id": "c06aec98-f6e3-48f7-8e3d-b2007a6ffdbe",
   "metadata": {},
   "source": [
    "### Task 1: Importing the required libraries in the environment."
   ]
  },
  {
   "cell_type": "code",
   "execution_count": 1,
   "id": "9bf81639-60a6-42b6-80f0-90fbb6c636b6",
   "metadata": {},
   "outputs": [
    {
     "name": "stderr",
     "output_type": "stream",
     "text": [
      "2021-10-25 20:32:17.729784: W tensorflow/stream_executor/platform/default/dso_loader.cc:59] Could not load dynamic library 'libcudart.so.10.1'; dlerror: libcudart.so.10.1: cannot open shared object file: No such file or directory\n",
      "2021-10-25 20:32:17.729849: I tensorflow/stream_executor/cuda/cudart_stub.cc:29] Ignore above cudart dlerror if you do not have a GPU set up on your machine.\n"
     ]
    }
   ],
   "source": [
    "#Importing the necessary libraries\n",
    "import numpy as np\n",
    "import pandas as pd\n",
    "import matplotlib.pyplot as plt\n",
    "import seaborn as sns\n",
    "from sklearn.metrics import classification_report, confusion_matrix\n",
    "\n",
    "import transformers\n",
    "from transformers import pipeline\n",
    "\n",
    "import nltk\n",
    "\n",
    "import warnings\n",
    "warnings.filterwarnings(\"ignore\")"
   ]
  },
  {
   "cell_type": "code",
   "execution_count": 2,
   "id": "730bc8a2-a99b-42dd-9328-153d2ff094fe",
   "metadata": {},
   "outputs": [
    {
     "name": "stdout",
     "output_type": "stream",
     "text": [
      "4.10.2\n"
     ]
    }
   ],
   "source": [
    "print(transformers.__version__)"
   ]
  },
  {
   "cell_type": "markdown",
   "id": "d1bea5b5-501f-47a0-8c8c-e80a23f96c78",
   "metadata": {},
   "source": [
    "### Configure the FB-Bart-Large-mnli model pipeline\n",
    "\n",
    "This transformer has been trained on a massily amount of data so already understands loads about the structure of text. "
   ]
  },
  {
   "cell_type": "code",
   "execution_count": 11,
   "id": "7df16ea9-a84e-439b-acd7-f5b001500b04",
   "metadata": {},
   "outputs": [],
   "source": [
    "classifier = pipeline('zero-shot-classification', model = 'facebook/bart-large-mnli')"
   ]
  },
  {
   "cell_type": "markdown",
   "id": "9d3bf94d-6c65-450c-bc2b-1ec2faf4c094",
   "metadata": {},
   "source": [
    "### Define the class Labels\n",
    "We'll be using `Bart for multi-class text classification.` To perform, we first need to provide it with a list of classes and it will figure our which keywords should be assigned to which class (intent). It does this by presenting each candidate label as a <b>hypothesis</b> to the model, with the sequence text representing the \"premise.\"\n",
    "\n",
    "To come up with labels, we can do EDA, but for starting, we can try the official intents i.e., Informational, Navigational, Transactional, Commercial"
   ]
  },
  {
   "cell_type": "code",
   "execution_count": null,
   "id": "57938ec4-c314-48b2-b03f-1c13e0161347",
   "metadata": {},
   "outputs": [],
   "source": [
    "df = pd.read_csv('df.csv')\n",
    "df = df[[\"Keyword\",\"Label\"]]\n",
    "df.head()"
   ]
  },
  {
   "cell_type": "code",
   "execution_count": null,
   "id": "b305d2b3-62b5-457c-a3bf-c4d666a1b80b",
   "metadata": {},
   "outputs": [],
   "source": [
    "df.shape"
   ]
  },
  {
   "cell_type": "code",
   "execution_count": null,
   "id": "521d4cfc-929b-4244-b6ba-7d7cc7bb0b81",
   "metadata": {
    "tags": []
   },
   "outputs": [],
   "source": [
    "fig=plt.figure(figsize=(10, 5))\n",
    "\n",
    "plt.hist(df.Label,color = \"skyblue\", lw=0)\n",
    "plt.xlabel('Types of Labels')\n",
    "plt.ylabel('Number of Instances')\n",
    "plt.title('Distribution of Label in Dataset by SEO');"
   ]
  },
  {
   "cell_type": "code",
   "execution_count": null,
   "id": "7df17f54-b9f7-42a2-bcf5-719500ce0202",
   "metadata": {},
   "outputs": [],
   "source": [
    "df_copy = df.copy()\n",
    "df_copy = df_copy[[\"Keyword\"]]\n",
    "df_copy.head()"
   ]
  },
  {
   "cell_type": "markdown",
   "id": "52a19e46-6bb8-42cb-80fb-80bdab547586",
   "metadata": {},
   "source": [
    "### Task 4: Forming Class Names to which the keywords will be assigned to"
   ]
  },
  {
   "cell_type": "code",
   "execution_count": 43,
   "id": "9eeb6778-05f6-4007-ad7b-c05df3b3d728",
   "metadata": {},
   "outputs": [],
   "source": [
    "classes = ['Informational',\n",
    "           'Local',\n",
    "           'Transactional',\n",
    "           'Navigational']"
   ]
  },
  {
   "cell_type": "code",
   "execution_count": 44,
   "id": "71ca5ceb-c14b-4040-90c7-220be1ade600",
   "metadata": {},
   "outputs": [],
   "source": [
    "keyword = df_copy['Keyword'][0]"
   ]
  },
  {
   "cell_type": "code",
   "execution_count": null,
   "id": "418aa606-fdd1-44b6-9d34-62488c0f3dfa",
   "metadata": {},
   "outputs": [],
   "source": [
    "result = classifier(keyword, classes, multi_label=False)\n",
    "result"
   ]
  },
  {
   "cell_type": "markdown",
   "id": "751db9ab-8761-4b10-8247-7f1fb5e79a54",
   "metadata": {},
   "source": [
    "### Task 5: Passing the keywords and the class names through the classifier"
   ]
  },
  {
   "cell_type": "code",
   "execution_count": 46,
   "id": "5ee14e8e-d9e2-49a2-86a5-19801c58d2e9",
   "metadata": {},
   "outputs": [],
   "source": [
    "df_copy['labels'] = df_copy.apply(lambda x: classifier(x.Keyword, classes, multi_label=False), axis=1)"
   ]
  },
  {
   "cell_type": "code",
   "execution_count": 47,
   "id": "9f89da5d-d65a-43d9-aef2-e0ca2bbae43a",
   "metadata": {},
   "outputs": [],
   "source": [
    "df_copy['predicted_label'] = df_copy.apply(lambda row: row['labels']['labels'][0], axis = 1)\n",
    "df_copy['score'] = df_copy.apply(lambda row: row['labels']['scores'][0], axis=1)"
   ]
  },
  {
   "cell_type": "code",
   "execution_count": null,
   "id": "ff113bd6-2877-4644-a030-e6ad213ac9e8",
   "metadata": {},
   "outputs": [],
   "source": [
    "df_copy.head(10)"
   ]
  },
  {
   "cell_type": "markdown",
   "id": "876b4e5d-fd22-46d8-80e6-6de885c3486d",
   "metadata": {},
   "source": [
    "### Task 6: Analysis of the labels assigned to keywords"
   ]
  },
  {
   "cell_type": "code",
   "execution_count": null,
   "id": "6aaf6d56-af4e-475c-9d53-b9b4559d4345",
   "metadata": {},
   "outputs": [],
   "source": [
    "result = pd.merge(df, df_copy, on='Keyword', how='inner')\n",
    "result = result[['Keyword','Label','predicted_label','score']]\n",
    "#result = result.groupby('predicted_label').head(20).reset_index(drop=False)\n",
    "result.head(20)"
   ]
  },
  {
   "cell_type": "code",
   "execution_count": null,
   "id": "9abd0d1e-5fd1-451a-b570-a9e789ecc52e",
   "metadata": {},
   "outputs": [],
   "source": [
    "result.loc[result['predicted_label'] == 'Local'].head(7)\n",
    "#result.loc[result['column_name'] == some_value]"
   ]
  },
  {
   "cell_type": "code",
   "execution_count": null,
   "id": "c4fd5385-81ee-4343-bd8c-b3f477ea1d8d",
   "metadata": {},
   "outputs": [],
   "source": [
    "result.loc[result['predicted_label'] == 'Navigational'].head(7)"
   ]
  }
 ],
 "metadata": {
  "environment": {
   "name": "common-cpu.m80",
   "type": "gcloud",
   "uri": "gcr.io/deeplearning-platform-release/base-cpu:m80"
  },
  "kernelspec": {
   "display_name": "Python 3",
   "language": "python",
   "name": "python3"
  },
  "language_info": {
   "codemirror_mode": {
    "name": "ipython",
    "version": 3
   },
   "file_extension": ".py",
   "mimetype": "text/x-python",
   "name": "python",
   "nbconvert_exporter": "python",
   "pygments_lexer": "ipython3",
   "version": "3.7.10"
  }
 },
 "nbformat": 4,
 "nbformat_minor": 5
}
