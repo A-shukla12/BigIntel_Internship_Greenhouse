{
 "cells": [
  {
   "cell_type": "markdown",
   "id": "7c4d86ae-0c0d-4773-8034-09b7cd26fb92",
   "metadata": {
    "tags": []
   },
   "source": [
    "<h2 align=center>Zero Shot Learning for Multilingual Keywords Classification</h2>\n",
    "\n",
    "In this notebook we will be performing the task of assigning label names to multi-lingual keywords by using Zero Shot Learning. The approach has been tested on different datasets and the results generated as keywords with their assigned labl names with their corresponding accuracy score. \n",
    "\n",
    "This project/notebook consists of several Tasks.\n",
    "\n",
    "- **[Task 1]()**: Installing the dependencies.\n",
    "- **[Task 2]()**: Importing the required libraries in the environment.\n",
    "- **[Task 3]()**: Instantiating the classifier by using huggingface pipeline\n",
    "- **[Task 4]()**: Forming Class Names to which the keywords will be assigned to\n",
    "- **[Task 5]()**: Passing the keywords and the class names through the classifier\n",
    "- **[Task 6]()**: Analysis of the labels assigned to keywords"
   ]
  },
  {
   "cell_type": "markdown",
   "id": "09c720a2-a6dc-42c8-8847-98c194b4fd14",
   "metadata": {},
   "source": [
    "### Task 1: Installing the dependencies"
   ]
  },
  {
   "cell_type": "code",
   "execution_count": 1,
   "id": "7961d93c-93e5-4f8e-9ad3-122e13f6b9cb",
   "metadata": {},
   "outputs": [
    {
     "name": "stdout",
     "output_type": "stream",
     "text": [
      "Requirement already satisfied (use --upgrade to upgrade): sentencepiece in /opt/conda/lib/python3.7/site-packages\n",
      "\u001b[33mYou are using pip version 8.1.1, however version 21.3.1 is available.\n",
      "You should consider upgrading via the 'pip install --upgrade pip' command.\u001b[0m\n"
     ]
    }
   ],
   "source": [
    "!pip install sentencepiece"
   ]
  },
  {
   "cell_type": "markdown",
   "id": "f249e119-1d4a-48f5-b2f9-ab73c1cb17b9",
   "metadata": {},
   "source": [
    "### Task 2: Importing all the required libraries in the environment."
   ]
  },
  {
   "cell_type": "code",
   "execution_count": 2,
   "id": "6e48a1cb-d51d-48db-9bef-d68dcbcbe29b",
   "metadata": {},
   "outputs": [
    {
     "name": "stderr",
     "output_type": "stream",
     "text": [
      "2021-10-21 09:26:52.938943: W tensorflow/stream_executor/platform/default/dso_loader.cc:64] Could not load dynamic library 'libcudart.so.11.0'; dlerror: libcudart.so.11.0: cannot open shared object file: No such file or directory\n",
      "2021-10-21 09:26:52.938994: I tensorflow/stream_executor/cuda/cudart_stub.cc:29] Ignore above cudart dlerror if you do not have a GPU set up on your machine.\n"
     ]
    },
    {
     "data": {
      "text/html": [
       "        <script type=\"text/javascript\">\n",
       "        window.PlotlyConfig = {MathJaxConfig: 'local'};\n",
       "        if (window.MathJax) {MathJax.Hub.Config({SVG: {font: \"STIX-Web\"}});}\n",
       "        if (typeof require !== 'undefined') {\n",
       "        require.undef(\"plotly\");\n",
       "        requirejs.config({\n",
       "            paths: {\n",
       "                'plotly': ['https://cdn.plot.ly/plotly-latest.min']\n",
       "            }\n",
       "        });\n",
       "        require(['plotly'], function(Plotly) {\n",
       "            window._Plotly = Plotly;\n",
       "        });\n",
       "        }\n",
       "        </script>\n",
       "        "
      ]
     },
     "metadata": {},
     "output_type": "display_data"
    }
   ],
   "source": [
    "#Importing the necessary libraries\n",
    "import numpy as np\n",
    "import pandas as pd\n",
    "import matplotlib.pyplot as plt\n",
    "import seaborn as sns\n",
    "from sklearn.metrics import classification_report, confusion_matrix\n",
    "import tensorflow\n",
    "\n",
    "import sentencepiece \n",
    "import transformers\n",
    "from transformers import pipeline\n",
    "\n",
    "from transformers import AutoTokenizer, AutoModelForSequenceClassification\n",
    "\n",
    "import nltk\n",
    "\n",
    "import plotly as py\n",
    "import plotly.graph_objs as go\n",
    "import ipywidgets as widgets\n",
    "from scipy import special\n",
    "import plotly.express as px\n",
    "\n",
    "py.offline.init_notebook_mode(connected = True)\n",
    "import scipy.stats as stats\n",
    "\n",
    "import warnings\n",
    "warnings.filterwarnings(\"ignore\")"
   ]
  },
  {
   "cell_type": "code",
   "execution_count": 4,
   "id": "1681b227-4e53-49de-97d3-d8a07181f89d",
   "metadata": {
    "tags": []
   },
   "outputs": [
    {
     "name": "stderr",
     "output_type": "stream",
     "text": [
      "Some weights of the model checkpoint at joeddav/xlm-roberta-large-xnli were not used when initializing XLMRobertaForSequenceClassification: ['roberta.pooler.dense.bias', 'roberta.pooler.dense.weight']\n",
      "- This IS expected if you are initializing XLMRobertaForSequenceClassification from the checkpoint of a model trained on another task or with another architecture (e.g. initializing a BertForSequenceClassification model from a BertForPreTraining model).\n",
      "- This IS NOT expected if you are initializing XLMRobertaForSequenceClassification from the checkpoint of a model that you expect to be exactly identical (initializing a BertForSequenceClassification model from a BertForSequenceClassification model).\n"
     ]
    }
   ],
   "source": [
    "#classifier = pipeline(\"zero-shot-classification\",\n",
    "#                      model=\"joeddav/xlm-roberta-large-xnli\")"
   ]
  },
  {
   "cell_type": "markdown",
   "id": "b0a5d9f7-a1bd-4ffc-bf26-0bffb5ec7eaf",
   "metadata": {},
   "source": [
    "### Task 3: Instantiating the classifier by using huggingface pipeline"
   ]
  },
  {
   "cell_type": "code",
   "execution_count": 3,
   "id": "b0b39cf6-08e3-4fdc-96aa-24f4e2c3473e",
   "metadata": {},
   "outputs": [],
   "source": [
    "classifier = pipeline(\"zero-shot-classification\", model=\"vicgalle/xlm-roberta-large-xnli-anli\")"
   ]
  },
  {
   "cell_type": "code",
   "execution_count": null,
   "id": "e4c6933f-b1ce-4148-b9ea-2000e7361ef5",
   "metadata": {},
   "outputs": [],
   "source": [
    "df = pd.read_csv(\"df.csv\")\n",
    "df = df[[\"Keyword\",\"Label\"]]\n",
    "df.head()"
   ]
  },
  {
   "cell_type": "raw",
   "id": "b9e65210-c492-4df8-bf77-fcb3d6ce0be9",
   "metadata": {},
   "source": [
    "df[\"Label\"].value_counts()"
   ]
  },
  {
   "cell_type": "code",
   "execution_count": null,
   "id": "e403c901-2729-4bdd-b5b1-addb43a8276b",
   "metadata": {},
   "outputs": [],
   "source": [
    "df_copy = df.copy()\n",
    "df_copy = df_copy[[\"Keyword\"]]\n",
    "df_copy.head()"
   ]
  },
  {
   "cell_type": "markdown",
   "id": "b3290c80-8d93-44a1-9f11-2f3f0bb49439",
   "metadata": {},
   "source": [
    "### Task 4: Forming Class Names to which the keywords will be assigned to"
   ]
  },
  {
   "cell_type": "code",
   "execution_count": 43,
   "id": "2550045b-ac46-46ad-b153-515b62df3986",
   "metadata": {},
   "outputs": [],
   "source": [
    "classes = ['Informational',\n",
    "           'Local',\n",
    "           'Transactional',\n",
    "           'Navigational']"
   ]
  },
  {
   "cell_type": "code",
   "execution_count": 44,
   "id": "0f4acac9-ea7e-44d6-bdbe-b4aead745a53",
   "metadata": {},
   "outputs": [],
   "source": [
    "keyword = df_copy['Keyword'][0]"
   ]
  },
  {
   "cell_type": "code",
   "execution_count": null,
   "id": "74393955-5a11-4676-aa85-741e90e6b57d",
   "metadata": {},
   "outputs": [],
   "source": [
    "result = classifier(keyword, classes, multi_label=False)\n",
    "result"
   ]
  },
  {
   "cell_type": "markdown",
   "id": "26069cf3-04a0-443a-9704-99b86f0d4f2a",
   "metadata": {},
   "source": [
    "### Task 5: Passing the keywords and the class names through the classifier"
   ]
  },
  {
   "cell_type": "code",
   "execution_count": 46,
   "id": "0bdd7ffe-752e-4863-9437-ba0a25189d41",
   "metadata": {},
   "outputs": [],
   "source": [
    "df_copy['labels'] = df_copy.apply(lambda x: classifier(x.Keyword, classes, multi_label=False), axis=1)"
   ]
  },
  {
   "cell_type": "code",
   "execution_count": 47,
   "id": "d8b13bc1-1e63-4445-ae29-bf6d846b3666",
   "metadata": {},
   "outputs": [],
   "source": [
    "df_copy['predicted_label'] = df_copy.apply(lambda row: row['labels']['labels'][0], axis = 1)\n",
    "df_copy['score'] = df_copy.apply(lambda row: row['labels']['scores'][0], axis=1)"
   ]
  },
  {
   "cell_type": "code",
   "execution_count": null,
   "id": "93758ae2-f954-4241-9300-0d0d6a24273e",
   "metadata": {},
   "outputs": [],
   "source": [
    "df_copy.head(10)"
   ]
  },
  {
   "cell_type": "markdown",
   "id": "aef14704-ec35-4dbe-9cdd-c09b6d1003aa",
   "metadata": {},
   "source": [
    "### Task 6: Analysis of the labels assigned to keywords"
   ]
  },
  {
   "cell_type": "code",
   "execution_count": null,
   "id": "f89995ba-0651-485a-ac96-7a9630660ea4",
   "metadata": {},
   "outputs": [],
   "source": [
    "result = pd.merge(df, df_copy, on='Keyword', how='inner')\n",
    "result = result[['Keyword','Label','predicted_label','score']]\n",
    "#result = result.groupby('predicted_label').head(20).reset_index(drop=False)\n",
    "result.head(20)"
   ]
  },
  {
   "cell_type": "code",
   "execution_count": null,
   "id": "b98522bc-1bd2-4c80-82f9-bbaac79ab6ec",
   "metadata": {},
   "outputs": [],
   "source": [
    "result.loc[result['predicted_label'] == 'Local'].head(7)\n",
    "#result.loc[result['column_name'] == some_value]"
   ]
  },
  {
   "cell_type": "code",
   "execution_count": null,
   "id": "14b4cc83-178e-4c7e-8007-7f6281859afa",
   "metadata": {},
   "outputs": [],
   "source": [
    "result.loc[result['predicted_label'] == 'Navigational'].head(7)"
   ]
  },
  {
   "cell_type": "code",
   "execution_count": null,
   "id": "a65aa8de-ce09-4a54-94f3-527c46514c7c",
   "metadata": {},
   "outputs": [],
   "source": [
    "result[result.duplicated(['Keyword'], keep=False)].head(10)"
   ]
  },
  {
   "cell_type": "code",
   "execution_count": null,
   "id": "73bb571a-4a18-4ad1-b6b4-74ada901e6a0",
   "metadata": {},
   "outputs": [],
   "source": [
    "df.shape[0] - len(df['Keyword'].unique()) "
   ]
  },
  {
   "cell_type": "code",
   "execution_count": null,
   "id": "d73b7aa3-b958-4504-b986-416838b3653a",
   "metadata": {},
   "outputs": [],
   "source": [
    "df.shape"
   ]
  },
  {
   "cell_type": "code",
   "execution_count": 142,
   "id": "3752ad1f-817e-47c5-8dfd-d9c1e0843f92",
   "metadata": {},
   "outputs": [
    {
     "data": {
      "text/plain": [
       "362"
      ]
     },
     "execution_count": 142,
     "metadata": {},
     "output_type": "execute_result"
    }
   ],
   "source": [
    "#Number of duplicate values\n",
    "1615-1253"
   ]
  },
  {
   "cell_type": "code",
   "execution_count": null,
   "id": "edc33a00-1411-4000-a16b-d26e16118f59",
   "metadata": {},
   "outputs": [],
   "source": [
    "result.loc[result['predicted_label'] == 'Transactional'].head(20)"
   ]
  },
  {
   "cell_type": "code",
   "execution_count": null,
   "id": "e94b11c4-f76e-4073-8a99-84691e93089a",
   "metadata": {},
   "outputs": [],
   "source": [
    "result.tail()"
   ]
  },
  {
   "cell_type": "code",
   "execution_count": null,
   "id": "28d9ae6c-b4ae-43ea-aa30-e37d1bc14b6d",
   "metadata": {},
   "outputs": [],
   "source": [
    "keyword_len = []\n",
    "\n",
    "for index, row in result.iterrows():\n",
    "    #print(len(row['keyword'].split()))\n",
    "    keyword_len.append(len(row['Keyword'].split()))\n",
    "    \n",
    "print(f'Average number of words in the keyword are: {np.mean(keyword_len)}' )"
   ]
  },
  {
   "cell_type": "code",
   "execution_count": null,
   "id": "add68c60-08d5-4fe5-87a0-5bb3c83922b9",
   "metadata": {},
   "outputs": [],
   "source": [
    "y = stats.norm.pdf(np.linspace(1,10,50), np.mean(keyword_len), np.std(keyword_len))\n",
    "\n",
    "plt.hist(keyword_len, bins= range(1,10), density = True)\n",
    "plt.plot(np.linspace(0,14,50), y, linewidth = 1)\n",
    "plt.title(\"Keyword length\")\n",
    "plt.xlabel(\"Number of words\")\n",
    "plt.ylabel(\"Probability\");"
   ]
  },
  {
   "cell_type": "code",
   "execution_count": null,
   "id": "6443ec84-796c-4f4d-aaea-3b3925b2f581",
   "metadata": {},
   "outputs": [],
   "source": [
    "from plotly.subplots import make_subplots\n",
    "import plotly.graph_objects as go\n",
    "\n",
    "\n",
    "fig = make_subplots(\n",
    "    rows=2, cols=2,\n",
    "    subplot_titles=(\"Distribution of Label in Dataset by SEO team  (Multilingual)\", \"Distribution of Label in Dataset using Zero Shot (Multilingual)\"))\n",
    "\n",
    "fig.add_trace(go.Histogram(x=df['Label']),\n",
    "              row=1, col=1)\n",
    "\n",
    "fig.add_trace(go.Histogram(x=result['predicted_label']),\n",
    "              row=1, col=2)\n",
    "\n",
    "fig.update_layout(height=560, width=1200,\n",
    "                  title_text=\"Difference in Keyword Labelling\")\n",
    "\n",
    "fig.show()"
   ]
  },
  {
   "cell_type": "markdown",
   "id": "20d68201-57c3-4202-a1f6-83ae3adf4e0c",
   "metadata": {},
   "source": [
    "____"
   ]
  },
  {
   "cell_type": "code",
   "execution_count": null,
   "id": "7c6b79c2-eab8-4427-a887-8522ae465b74",
   "metadata": {
    "tags": []
   },
   "outputs": [],
   "source": [
    "import pandas as pd \n",
    "url=\"df2.url\"\n",
    "c= pd.read_csv(url)\n",
    "c.head()"
   ]
  },
  {
   "cell_type": "code",
   "execution_count": null,
   "id": "7e4af26a-34bc-488f-83ee-2021f1a3f789",
   "metadata": {},
   "outputs": [],
   "source": [
    "classes = [\"Transactional\",\n",
    "         \"Branded\",\n",
    "         \"Visual\",\n",
    "         \"Research\",\n",
    "         \"Answer\",\n",
    "         \"Fresh / News\",\n",
    "         \"Local\",\n",
    "         \"Video\"]"
   ]
  },
  {
   "cell_type": "code",
   "execution_count": null,
   "id": "08e754c1-63bd-4ed8-bc64-725a78940984",
   "metadata": {},
   "outputs": [],
   "source": [
    "result_ = classifier(c['Keyword'][1], classes, multi_label=False)\n",
    "result_"
   ]
  },
  {
   "cell_type": "code",
   "execution_count": null,
   "id": "2a47bc50-3662-4ec3-8b99-f50c5e96db30",
   "metadata": {
    "tags": []
   },
   "outputs": [],
   "source": [
    "c['labels'] = c.apply(lambda x: classifier(x.Keyword, classes, multi_label=False), axis=1)"
   ]
  },
  {
   "cell_type": "code",
   "execution_count": null,
   "id": "78652cf4-6bab-4c51-9547-37cc2b198d42",
   "metadata": {},
   "outputs": [],
   "source": [
    "c['predicted_label'] = c.apply(lambda row: row['labels']['labels'][0], axis = 1)\n",
    "c['score'] = c.apply(lambda row: row['labels']['scores'][0], axis=1)"
   ]
  },
  {
   "cell_type": "code",
   "execution_count": null,
   "id": "2429d5e8-3949-41a9-9b66-9c121bf2f2ae",
   "metadata": {},
   "outputs": [],
   "source": [
    "c.head()"
   ]
  },
  {
   "cell_type": "code",
   "execution_count": null,
   "id": "94d71242-5eb9-45f8-b77b-d99321b4147c",
   "metadata": {},
   "outputs": [],
   "source": []
  }
 ],
 "metadata": {
  "environment": {
   "name": "common-cpu.m80",
   "type": "gcloud",
   "uri": "gcr.io/deeplearning-platform-release/base-cpu:m80"
  },
  "kernelspec": {
   "display_name": "Python 3",
   "language": "python",
   "name": "python3"
  },
  "language_info": {
   "codemirror_mode": {
    "name": "ipython",
    "version": 3
   },
   "file_extension": ".py",
   "mimetype": "text/x-python",
   "name": "python",
   "nbconvert_exporter": "python",
   "pygments_lexer": "ipython3",
   "version": "3.7.10"
  }
 },
 "nbformat": 4,
 "nbformat_minor": 5
}
