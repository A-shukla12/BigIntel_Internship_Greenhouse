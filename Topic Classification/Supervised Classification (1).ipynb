{
 "cells": [
  {
   "cell_type": "markdown",
   "id": "4985119b-6f8c-493b-bed2-d676901fd8f2",
   "metadata": {},
   "source": [
    "<h2 align=center> (Supervised) Classification using Bert embeddings </h2>\n",
    "\n",
    "In this notebook, we will be using various traditional supervised machine learning algorithms to perform our topic classification task. We will be using the input of the bert embeddings to the algorithms and comparing them by their confusion matrix. The model that is able to outperform the rest will be declared as the base model for comparison with the neural network BERT.\n",
    "\n",
    "This project/notebook consists of several Tasks.\n",
    "\n",
    "- **[Task 1]()**:   Importing the required libraries in the environment. \n",
    "- **[Task 2]()**:   Importing the dataset.\n",
    "- **[Task 3]()**:   Conducting Exploratory Data Analysis and Data Pre-Processing\n",
    "- **[Task 4]()**:   Building the Bert Model.\n",
    "- **[Task 5]()**:   Extracting the last hidden layer which will be used as the input to the classifiers\n",
    "- **[Task 6]()**:   Splitting the dataset into train and test set and fitting the last layer of embeddings to classifiers\n",
    "- **[Task 7]()**:   Perform Kfold Cross Validation\n",
    "- **[Task 8]()**:   Performing Hyperparameter tuning by using GridSearchCV\n",
    "- **[Task 9]()**:   Comparing all of the models\n",
    "- **[Task 10]()**:  Comparing Logistic Regression and SVC\n",
    "- **[Task 11]()**:  Plotting Roc/ Precision Recall Curves\n",
    "- **[Task 12]()**:  Predicting on New Data\n"
   ]
  },
  {
   "cell_type": "markdown",
   "id": "fb39d679-c7f4-4b8a-8ac3-6b28d11d69ef",
   "metadata": {},
   "source": [
    "### Task 1: Importing the required libraries in the environment."
   ]
  },
  {
   "cell_type": "code",
   "execution_count": null,
   "id": "c1fb37d7-645d-4b82-a654-e5b344d84ebb",
   "metadata": {},
   "outputs": [
    {
     "data": {
      "text/html": [
       "        <script type=\"text/javascript\">\n",
       "        window.PlotlyConfig = {MathJaxConfig: 'local'};\n",
       "        if (window.MathJax) {MathJax.Hub.Config({SVG: {font: \"STIX-Web\"}});}\n",
       "        if (typeof require !== 'undefined') {\n",
       "        require.undef(\"plotly\");\n",
       "        requirejs.config({\n",
       "            paths: {\n",
       "                'plotly': ['https://cdn.plot.ly/plotly-latest.min']\n",
       "            }\n",
       "        });\n",
       "        require(['plotly'], function(Plotly) {\n",
       "            window._Plotly = Plotly;\n",
       "        });\n",
       "        }\n",
       "        </script>\n",
       "        "
      ]
     },
     "metadata": {},
     "output_type": "display_data"
    },
    {
     "name": "stderr",
     "output_type": "stream",
     "text": [
      "2021-12-13 11:19:13.750317: W tensorflow/stream_executor/platform/default/dso_loader.cc:59] Could not load dynamic library 'libcudart.so.10.1'; dlerror: libcudart.so.10.1: cannot open shared object file: No such file or directory\n",
      "2021-12-13 11:19:13.750424: I tensorflow/stream_executor/cuda/cudart_stub.cc:29] Ignore above cudart dlerror if you do not have a GPU set up on your machine.\n"
     ]
    }
   ],
   "source": [
    "#Importing the necessary libraries\n",
    "import numpy as np\n",
    "import pandas as pd\n",
    "import matplotlib.pyplot as plt\n",
    "import seaborn as sns\n",
    "\n",
    "from sklearn.model_selection import train_test_split\n",
    "from sklearn.linear_model import LogisticRegression\n",
    "from sklearn.tree import DecisionTreeClassifier\n",
    "from sklearn.naive_bayes import GaussianNB\n",
    "from sklearn.model_selection import GridSearchCV\n",
    "from sklearn.model_selection import cross_val_score\n",
    "\n",
    "#Plotly\n",
    "from plotly.subplots import make_subplots\n",
    "import plotly.graph_objects as go\n",
    "import plotly as py\n",
    "import plotly.graph_objs as go\n",
    "import ipywidgets as widgets\n",
    "from scipy import special\n",
    "import plotly.express as px\n",
    "\n",
    "py.offline.init_notebook_mode(connected = True)\n",
    "import scipy.stats as stats\n",
    "\n",
    "#Importing the terms for evaluating regression models.\n",
    "import sklearn\n",
    "from sklearn import preprocessing\n",
    "from sklearn.metrics import mean_squared_error as MSE \n",
    "from sklearn.metrics import mean_absolute_error as mae \n",
    "from sklearn.metrics import accuracy_score \n",
    "from sklearn.metrics import r2_score,roc_auc_score\n",
    "\n",
    "import torch\n",
    "import transformers as tf\n",
    "import warnings\n",
    "warnings.filterwarnings('ignore')"
   ]
  },
  {
   "cell_type": "markdown",
   "id": "6ecc163d-4aad-43d0-8511-da7c2cea6f63",
   "metadata": {},
   "source": [
    "### Task 2: Importing the dataset."
   ]
  },
  {
   "cell_type": "code",
   "execution_count": null,
   "id": "61606156-664c-4afe-bf1c-2d980022c809",
   "metadata": {
    "tags": []
   },
   "outputs": [],
   "source": [
    "df = pd.read_csv(r'df.csv', delimiter = '\\t')\n",
    "df = df[['keyword','label']]\n",
    "df = df.rename({'label' : 'Topic'}, axis = 1)\n",
    "df.head()"
   ]
  },
  {
   "cell_type": "markdown",
   "id": "99d719ce-1b33-4e22-84e8-c993e0e0303d",
   "metadata": {},
   "source": [
    "### Task 3: Conducting Exploratory Data Analysis and Data Pre-Processing"
   ]
  },
  {
   "cell_type": "code",
   "execution_count": 4,
   "id": "27acd474-e1d9-44e7-9094-b5bf08942505",
   "metadata": {},
   "outputs": [],
   "source": [
    "def get_analysis_values(dataframe, columnname):\n",
    "    print(\"============================================Exploratory Data Analysis=====================================================\")\n",
    "    print(f'Shape of the dataframe is {dataframe.shape}')\n",
    "    print()\n",
    "    print(dataframe.info())\n",
    "    print()\n",
    "    print('-----Data labels Distribution----')\n",
    "    print(dataframe[columnname].value_counts())\n",
    "    print()\n",
    "    fig = px.histogram(dataframe,x=columnname, title = \"Distribution of Topics\")\n",
    "    fig.show()"
   ]
  },
  {
   "cell_type": "code",
   "execution_count": null,
   "id": "f5b12075-0cb9-4c26-ad97-035504a2e2b4",
   "metadata": {},
   "outputs": [],
   "source": [
    "get_analysis_values(df,'Topic')"
   ]
  },
  {
   "cell_type": "code",
   "execution_count": 6,
   "id": "bfe7b467-e0d6-4ae3-bfba-fb10c88b6cd9",
   "metadata": {
    "tags": []
   },
   "outputs": [],
   "source": [
    "topics = df['Topic'].value_counts().index.tolist()"
   ]
  },
  {
   "cell_type": "code",
   "execution_count": null,
   "id": "4d79605d-7940-4d59-9a7f-dc4510787549",
   "metadata": {},
   "outputs": [],
   "source": [
    "#Label Encoding the unique topic values\n",
    "label_encoder = preprocessing.LabelEncoder()\n",
    "df['Topic'] = label_encoder.fit_transform(df['Topic'])\n",
    "df.head()"
   ]
  },
  {
   "cell_type": "markdown",
   "id": "55bba836-8b0e-44fb-b4b8-c106ca345255",
   "metadata": {},
   "source": [
    "### Task 4: Building the Bert Model "
   ]
  },
  {
   "cell_type": "code",
   "execution_count": 8,
   "id": "0ac801f1-af26-4e20-ac1e-77752dabafa0",
   "metadata": {
    "tags": []
   },
   "outputs": [
    {
     "name": "stderr",
     "output_type": "stream",
     "text": [
      "Some weights of the model checkpoint at bert-base-uncased were not used when initializing BertModel: ['cls.predictions.transform.dense.weight', 'cls.seq_relationship.bias', 'cls.seq_relationship.weight', 'cls.predictions.transform.LayerNorm.weight', 'cls.predictions.bias', 'cls.predictions.transform.dense.bias', 'cls.predictions.transform.LayerNorm.bias', 'cls.predictions.decoder.weight']\n",
      "- This IS expected if you are initializing BertModel from the checkpoint of a model trained on another task or with another architecture (e.g. initializing a BertForSequenceClassification model from a BertForPreTraining model).\n",
      "- This IS NOT expected if you are initializing BertModel from the checkpoint of a model that you expect to be exactly identical (initializing a BertForSequenceClassification model from a BertForSequenceClassification model).\n"
     ]
    }
   ],
   "source": [
    "## BERT \n",
    "model_class, tokenizer_class, pretrained_weights = (tf.BertModel, tf.BertTokenizer, 'bert-base-uncased')\n",
    "\n",
    "# Load pretrained model/tokenizer\n",
    "tokenizer = tokenizer_class.from_pretrained(pretrained_weights)\n",
    "model = model_class.from_pretrained(pretrained_weights)"
   ]
  },
  {
   "cell_type": "code",
   "execution_count": 9,
   "id": "3dcb6c32-1a8f-47bf-b9b7-f7e558c3871a",
   "metadata": {},
   "outputs": [],
   "source": [
    "tokenized = df['keyword'].apply((lambda x: tokenizer.encode(x, add_special_tokens=True)))"
   ]
  },
  {
   "cell_type": "code",
   "execution_count": 10,
   "id": "2d57838e-0c08-499d-a1c2-048a675046c3",
   "metadata": {},
   "outputs": [
    {
     "data": {
      "text/plain": [
       "[101, 2190, 3751, 11868, 18623, 102]"
      ]
     },
     "execution_count": 10,
     "metadata": {},
     "output_type": "execute_result"
    }
   ],
   "source": [
    "tokenized.values[0]"
   ]
  },
  {
   "cell_type": "code",
   "execution_count": 11,
   "id": "ed640760-f3a4-4f14-b642-124900e871ba",
   "metadata": {},
   "outputs": [
    {
     "data": {
      "text/plain": [
       "array([list([101, 2190, 3751, 11868, 18623, 102]),\n",
       "       list([101, 10855, 12509, 13433, 4168, 17643, 12556, 102]),\n",
       "       list([101, 2190, 2227, 6949, 102]), ...,\n",
       "       list([101, 2131, 2304, 4974, 9436, 1997, 102]),\n",
       "       list([101, 2784, 10077, 19386, 2092, 2050, 4650, 2121, 102]),\n",
       "       list([101, 2302, 3103, 2829, 102])], dtype=object)"
      ]
     },
     "execution_count": 11,
     "metadata": {},
     "output_type": "execute_result"
    }
   ],
   "source": [
    "tokenized.values"
   ]
  },
  {
   "cell_type": "code",
   "execution_count": 12,
   "id": "68688f6c-c914-4297-b0c2-b397d0549e66",
   "metadata": {},
   "outputs": [
    {
     "data": {
      "text/plain": [
       "dtype('O')"
      ]
     },
     "execution_count": 12,
     "metadata": {},
     "output_type": "execute_result"
    }
   ],
   "source": [
    "tokenized.dtype"
   ]
  },
  {
   "cell_type": "markdown",
   "id": "5b53839f-3a61-45d9-8b39-aaf0023dd58c",
   "metadata": {
    "tags": []
   },
   "source": [
    "#### Padding"
   ]
  },
  {
   "cell_type": "code",
   "execution_count": 13,
   "id": "0de3e58e-7e36-4295-9773-40aa677d64f5",
   "metadata": {},
   "outputs": [
    {
     "name": "stdout",
     "output_type": "stream",
     "text": [
      "[  101  2190  3751 11868 18623   102     0     0     0     0     0     0\n",
      "     0     0     0     0     0     0     0     0     0     0     0     0]\n"
     ]
    }
   ],
   "source": [
    "max_len = 0\n",
    "# i is the tokenized values for each keyword\n",
    "for i in tokenized.values:\n",
    "    if len(i) > max_len:\n",
    "        max_len = len(i)\n",
    "\n",
    "padded = np.array([i + [0]*(max_len-len(i)) for i in tokenized.values])\n",
    "\n",
    "print(padded[0])"
   ]
  },
  {
   "cell_type": "code",
   "execution_count": 14,
   "id": "4131a9b8-45ce-471c-8f63-b12279c6dfb6",
   "metadata": {},
   "outputs": [
    {
     "data": {
      "text/plain": [
       "(1200, 24)"
      ]
     },
     "execution_count": 14,
     "metadata": {},
     "output_type": "execute_result"
    }
   ],
   "source": [
    "np.array(padded).shape"
   ]
  },
  {
   "cell_type": "markdown",
   "id": "10924eab-9561-4e4c-8a5b-3e3aa740c571",
   "metadata": {},
   "source": [
    "#### Attention Masking"
   ]
  },
  {
   "cell_type": "code",
   "execution_count": 15,
   "id": "b8073f5a-d5db-4c08-94dd-98db35b79aa4",
   "metadata": {},
   "outputs": [
    {
     "data": {
      "text/plain": [
       "(1200, 24)"
      ]
     },
     "execution_count": 15,
     "metadata": {},
     "output_type": "execute_result"
    }
   ],
   "source": [
    "attention_mask = np.where(padded != 0, 1, 0)\n",
    "attention_mask.shape"
   ]
  },
  {
   "cell_type": "markdown",
   "id": "742c38b0-6e4f-47e1-8761-8ed77b030548",
   "metadata": {},
   "source": [
    "The model() function runs our sentences through BERT. The results of the processing will be returned into last_hidden_states.\n",
    "\n",
    "After running this step, last_hidden_states holds the outputs of BERT. \n",
    "It is a tuple with the shape <b>(number of examples, max number of tokens in the sequence, number of hidden units in the BERT model).</b>"
   ]
  },
  {
   "cell_type": "markdown",
   "id": "17b6bc09-0978-40da-99fe-a9d0d20c1ae9",
   "metadata": {},
   "source": [
    "### Task 5: Extracting the last hidden layer which will be used as the input to the classifiers"
   ]
  },
  {
   "cell_type": "code",
   "execution_count": 16,
   "id": "92126db2-a657-4f40-a6c5-8cef1018af4d",
   "metadata": {},
   "outputs": [
    {
     "name": "stdout",
     "output_type": "stream",
     "text": [
      "torch.Size([1200, 24])\n",
      "torch.Size([1200, 24])\n",
      "tensor([  101,  2190,  3751, 11868, 18623,   102,     0,     0,     0,     0,\n",
      "            0,     0,     0,     0,     0,     0,     0,     0,     0,     0,\n",
      "            0,     0,     0,     0])\n"
     ]
    }
   ],
   "source": [
    "input_ids = torch.tensor(padded)  \n",
    "attention_mask = torch.tensor(attention_mask)\n",
    "print(input_ids.shape)\n",
    "print(attention_mask.shape)\n",
    "print(input_ids[0])\n",
    "#print(attention_mask)\n",
    "\n",
    "#getting the embeddings {CLS} \n",
    "with torch.no_grad():\n",
    "    last_hidden_states = model(input_ids, attention_mask=attention_mask)"
   ]
  },
  {
   "cell_type": "code",
   "execution_count": 17,
   "id": "7324a543-a6c3-4166-8af0-83ff2fc2e3bb",
   "metadata": {},
   "outputs": [
    {
     "data": {
      "text/plain": [
       "torch.Size([1200, 24, 768])"
      ]
     },
     "execution_count": 17,
     "metadata": {},
     "output_type": "execute_result"
    }
   ],
   "source": [
    "last_hidden_states[0].shape"
   ]
  },
  {
   "cell_type": "markdown",
   "id": "ed3efcd6-185e-4b35-996c-14a9c23eb6a9",
   "metadata": {},
   "source": [
    "Let's slice only the part of the output that we need. That is the output corresponding the first token of each sentence. The way BERT does sentence classification, is that it adds a token called [CLS] (for classification) at the beginning of every sentence. The output corresponding to that token can be thought of as an embedding for the entire sentence.\n",
    "\n",
    "We'll save those in the features variable, as they'll serve as the features to our logitics regression model."
   ]
  },
  {
   "cell_type": "code",
   "execution_count": 18,
   "id": "cc5c6263-f307-4fa8-abbe-3b9199dea7ea",
   "metadata": {},
   "outputs": [],
   "source": [
    "# [all sentences, only the [CLS], all hidden unit outputs]\n",
    "features = last_hidden_states[0][:,0,:].numpy()"
   ]
  },
  {
   "cell_type": "code",
   "execution_count": 19,
   "id": "b525e2f4-b456-4273-9f54-6dba10957182",
   "metadata": {},
   "outputs": [
    {
     "data": {
      "text/plain": [
       "array([[-0.58550394,  0.09792085, -0.15664367, ..., -0.29442218,\n",
       "         0.21049215,  0.33641493],\n",
       "       [-0.5041169 ,  0.29289067, -0.17436984, ..., -0.47779444,\n",
       "         0.14575483,  0.48637456],\n",
       "       [-0.18467456, -0.18141599, -0.33587617, ..., -0.18570815,\n",
       "         0.16134691,  0.07466242],\n",
       "       ...,\n",
       "       [-0.01232454,  0.5790118 , -0.3215054 , ..., -0.3248714 ,\n",
       "         0.19961077,  0.5749867 ],\n",
       "       [-0.73039925, -0.14629988, -0.15888973, ..., -0.2904038 ,\n",
       "        -0.1141081 ,  0.3672616 ],\n",
       "       [-0.193513  ,  0.26419365, -0.17163298, ..., -0.12108173,\n",
       "         0.24070588,  0.2870489 ]], dtype=float32)"
      ]
     },
     "execution_count": 19,
     "metadata": {},
     "output_type": "execute_result"
    }
   ],
   "source": [
    "features"
   ]
  },
  {
   "cell_type": "code",
   "execution_count": 20,
   "id": "f257d637-1e87-47cb-be5c-02e16d7c499c",
   "metadata": {},
   "outputs": [
    {
     "data": {
      "text/plain": [
       "(1200, 768)"
      ]
     },
     "execution_count": 20,
     "metadata": {},
     "output_type": "execute_result"
    }
   ],
   "source": [
    "features.shape"
   ]
  },
  {
   "cell_type": "code",
   "execution_count": null,
   "id": "fa8198e4-61b4-46ed-941b-3857ca2435a9",
   "metadata": {},
   "outputs": [],
   "source": [
    "label = df['Topic']\n",
    "label.shape"
   ]
  },
  {
   "cell_type": "code",
   "execution_count": 22,
   "id": "7a6f615b-e67b-449b-8fdc-83aa3802d0c0",
   "metadata": {},
   "outputs": [],
   "source": [
    "#Creating a list of accuracy and modelname \n",
    "accuracy = []\n",
    "modelname = []"
   ]
  },
  {
   "cell_type": "code",
   "execution_count": 23,
   "id": "22a7c5eb-789a-47b3-a13e-1e5a946124be",
   "metadata": {},
   "outputs": [],
   "source": [
    "from sklearn.metrics import confusion_matrix\n",
    "def plot_confusion_matrix(model, true, predicted, xfig, yfig):\n",
    "    fig,ax=plt.subplots(figsize=(xfig,yfig))\n",
    "    #plt.figure(figsize=(xfig,yfig))\n",
    "    sns.heatmap(confusion_matrix(predicted, true),annot=True,fmt='d',cmap=\"PiYG\")\n",
    "    plt.ylabel('True Values')\n",
    "    plt.xlabel('Predicted Values')\n",
    "    plt.title(f'Confusion Matrix of {model}')\n",
    "    ax.xaxis.set_ticklabels(['topic1','topic2','topic3']) #change this to being automatic\n",
    "    ax.yaxis.set_ticklabels(['topic1','topic2','topic3'])\n",
    "    plt.show();"
   ]
  },
  {
   "cell_type": "markdown",
   "id": "a97d9231-1984-4211-8b0a-3108f9f02384",
   "metadata": {},
   "source": [
    "### Task 6: Splitting the dataset into train and test set and fitting the last layer of embeddings to classifiers\n",
    "\n",
    "splitting with the default train and test_size are 75% training and 25% testing data split."
   ]
  },
  {
   "cell_type": "code",
   "execution_count": null,
   "id": "3f768e8c-4926-48da-8e11-a8fc4d01afcd",
   "metadata": {},
   "outputs": [],
   "source": [
    "#Train and Test Split\n",
    "seed = 42\n",
    "X_train, X_test, y_train, y_test = train_test_split(features, label, test_size = 0.25, random_state = seed)\n",
    "\n",
    "estimators = []\n",
    "clf_lr = LogisticRegression(random_state = seed)\n",
    "clf_dt = DecisionTreeClassifier(random_state = seed)\n",
    "#clf_rfr = RandomForestClassifier(random_state = seed)\n",
    "clf_nb = GaussianNB()\n",
    "#clf_svc = SVC(random_state = seed)\n",
    "\n",
    "estimators.append(clf_lr)\n",
    "estimators.append(clf_dt) \n",
    "#estimators.append(clf_rfr)\n",
    "estimators.append(clf_nb)\n",
    "#estimators.append(clf_svc)\n",
    "\n",
    "#model evaluation\n",
    "for models in estimators:\n",
    "    models.fit(X_train, y_train)\n",
    "    y_pred = models.predict(X_test)\n",
    "    \n",
    "    acc = accuracy_score(y_test,y_pred)\n",
    "    print(f'{models} has accuracy score of {round(acc,2)}')\n",
    "    accuracy.append(acc)\n",
    "    \n",
    "    plot_confusion_matrix(models,y_test, y_pred,10,6)\n",
    "modelname.append('Logistic Regression')\n",
    "modelname.append('Decision Tree')\n",
    "modelname.append('GaussianNB')"
   ]
  },
  {
   "cell_type": "markdown",
   "id": "31dbd326-e023-4268-8bd4-d36c25d6eade",
   "metadata": {
    "tags": []
   },
   "source": [
    "### Support Vector Classifier"
   ]
  },
  {
   "cell_type": "code",
   "execution_count": 25,
   "id": "8a44f96a-38ba-499e-96ce-a9a310234ebb",
   "metadata": {},
   "outputs": [],
   "source": [
    "modelname.append(\"SVC\")"
   ]
  },
  {
   "cell_type": "code",
   "execution_count": 26,
   "id": "d5b0f9fa-ff22-42ed-8818-49a94871924f",
   "metadata": {},
   "outputs": [],
   "source": [
    "from sklearn import svm\n",
    "from sklearn.svm import SVC"
   ]
  },
  {
   "cell_type": "code",
   "execution_count": 27,
   "id": "46379418-84d9-4b89-8243-1e68e125212b",
   "metadata": {},
   "outputs": [],
   "source": [
    "def build_model_with_gamma(kernel, degree):\n",
    "    model = svm.SVC(random_state=42, kernel=kernel, degree=degree, C=1.0, gamma='auto')\n",
    "    return model\n",
    "\n",
    "def calculate_score(model, x,y):\n",
    "    score_cv = cross_val_score(model, x, y, scoring = 'accuracy')\n",
    "    score = np.mean(score_cv)\n",
    "    return score "
   ]
  },
  {
   "cell_type": "code",
   "execution_count": null,
   "id": "9793fab9-e826-4003-b6ce-dd912233046c",
   "metadata": {},
   "outputs": [],
   "source": [
    "kernels = [\"linear\", \"poly\", \"rbf\", \"sigmoid\"]\n",
    "degrees= [2,4,6,8,10,12]    #Specifying the possible values of degrees to be used by our poly kernel.\n",
    "plt.figure(figsize=(5,4))\n",
    "for kernel in kernels:\n",
    "    if kernel == 'poly':\n",
    "        for degree in degrees:\n",
    "            model = build_model_with_gamma(kernel, degree)\n",
    "            score = calculate_score(model, X_train, y_train)\n",
    "            print(f'{kernel}, degree -> {degree}: has score: {score}')\n",
    "            plt.bar(kernel, score, color ='purple')\n",
    "    elif kernel =='sigmoid':\n",
    "        model =  build_model_with_gamma(kernel,3)   #Using degree as 3, since it's the default value\n",
    "        score = calculate_score(model, X_train, y_train)\n",
    "        print(f'{kernel}, has score: {score}')\n",
    "        plt.bar(kernel,score, color ='b')\n",
    "    else:\n",
    "        model =  build_model_with_gamma(kernel,3)\n",
    "        score = calculate_score(model, X_train, y_train)\n",
    "        print(f'{kernel}, has score: {score}')\n",
    "        plt.bar(kernel,score, color ='pink')\n",
    "plt.xlabel('Kernel')\n",
    "plt.ylabel('Accuracy score')\n",
    "plt.title('Comparing different SVM kernel score')\n",
    "plt.show()"
   ]
  },
  {
   "cell_type": "code",
   "execution_count": 29,
   "id": "4d40a400-b9c6-40b0-a4ea-7b5d0c0b7a9a",
   "metadata": {},
   "outputs": [
    {
     "name": "stdout",
     "output_type": "stream",
     "text": [
      "The score of the model is: 76.0 %\n"
     ]
    }
   ],
   "source": [
    "svc = SVC(kernel = 'linear',probability=True)\n",
    "svc.fit(X_train,y_train)\n",
    "y_pred = svc.predict(X_test)\n",
    "model_score = accuracy_score(y_pred,y_test)\n",
    "accuracy.append(model_score)\n",
    "print('The score of the model is:',(model_score*100),'%')"
   ]
  },
  {
   "cell_type": "code",
   "execution_count": null,
   "id": "ef572b70-dae8-4d9a-afd7-62e4daba2f37",
   "metadata": {},
   "outputs": [],
   "source": [
    "plot_confusion_matrix(svc,y_test, y_pred,10,7)"
   ]
  },
  {
   "cell_type": "markdown",
   "id": "d29733b0-22db-4119-a49c-40b7a089c932",
   "metadata": {},
   "source": [
    "### Task 7: Perform Kfold Cross Validation"
   ]
  },
  {
   "cell_type": "code",
   "execution_count": null,
   "id": "6f0007fc-33a2-44bb-b9a4-e879b966d913",
   "metadata": {},
   "outputs": [],
   "source": [
    "from sklearn.model_selection import KFold \n",
    "\n",
    "kfold = KFold(n_splits = 5, shuffle =True,random_state=seed)\n",
    "\n",
    "i = 1\n",
    "for train_index, test_index in kfold.split(features):\n",
    "    print(\"Fold: \", i)\n",
    "    print(f'Train Index: has {len(train_index)} elements') \n",
    "    print(f'Test Index: has {len(test_index)} elements')\n",
    "    print(\"---------------------------------\")\n",
    "    i +=1"
   ]
  },
  {
   "cell_type": "code",
   "execution_count": null,
   "id": "222abda4-2bec-4e08-a516-966d29df1613",
   "metadata": {},
   "outputs": [],
   "source": [
    "kfold = KFold(n_splits=5, shuffle=True,random_state=seed)\n",
    "cvs=cross_val_score(svc, X_train, y_train, cv = kfold)\n",
    "\n",
    "print(f'The accuracy score of the 5 folds are: {cvs}')\n",
    "print(\"The mean cross validations score\", format(cvs.mean()))"
   ]
  },
  {
   "cell_type": "code",
   "execution_count": null,
   "id": "7983fadd-293c-4ca3-9f4b-2ff40f7e5845",
   "metadata": {},
   "outputs": [],
   "source": [
    "class_labels = label.unique()\n",
    "class_labels "
   ]
  },
  {
   "cell_type": "markdown",
   "id": "78dcf95d-ccb8-488d-af6d-2db1fc859453",
   "metadata": {},
   "source": [
    "### Random Forest Classifier"
   ]
  },
  {
   "cell_type": "code",
   "execution_count": 34,
   "id": "4000fadb-93a0-4a4e-9761-898b85a218ef",
   "metadata": {},
   "outputs": [],
   "source": [
    "modelname.append(\"RandomForestClassifier\")"
   ]
  },
  {
   "cell_type": "code",
   "execution_count": 35,
   "id": "0c03a4ed-36e2-426a-879a-6d2ad11db608",
   "metadata": {},
   "outputs": [],
   "source": [
    "from sklearn.ensemble import RandomForestClassifier\n",
    "from sklearn.model_selection import GridSearchCV"
   ]
  },
  {
   "cell_type": "code",
   "execution_count": 36,
   "id": "cc1f12be-150b-4098-9612-4901be7b1628",
   "metadata": {},
   "outputs": [],
   "source": [
    "rfc = RandomForestClassifier(random_state = seed)"
   ]
  },
  {
   "cell_type": "markdown",
   "id": "0c2e3681-f9c2-4194-a63b-56343c88cd7f",
   "metadata": {
    "tags": []
   },
   "source": [
    "### Task 8: Performing Hyperparameter tuning by using GridSearchCV"
   ]
  },
  {
   "cell_type": "markdown",
   "id": "666d3a16-d71f-40dd-bdf5-7e7960b54ce5",
   "metadata": {},
   "source": [
    "<b>Performing GridSearchCV on rf to get the optimal of hyperparameters</b>"
   ]
  },
  {
   "cell_type": "code",
   "execution_count": null,
   "id": "30df505e-0756-4c95-8b2f-2881484fa396",
   "metadata": {},
   "outputs": [],
   "source": [
    "#Defined a grid of hyperparameters\n",
    "params_rfc={'n_estimators':[50,100,120,150],    #The number of trees in the forest\n",
    "           'min_samples_split':[0.1,0.2,0.3,0.4],       #The minimum number of samples required to split an internal node\n",
    "           'max_features':[\"auto\",\"sqrt\",\"log2\"]}\n",
    "\n",
    "\n",
    "grid_rfc = GridSearchCV(estimator = rfc, param_grid = params_rfc,scoring = 'accuracy',cv = 5, n_jobs = -1)\n",
    "grid_rfc.fit(X_train,y_train)\n"
   ]
  },
  {
   "cell_type": "code",
   "execution_count": null,
   "id": "80ad2391-26b1-4105-8b81-07efbaf48af5",
   "metadata": {},
   "outputs": [],
   "source": [
    "#Extracting the best hyperparameter values for our rfc\n",
    "best_hyp = grid_rfc.best_params_\n",
    "best_cv_score = grid_rfc.best_score_\n",
    "\n",
    "print('Best Hyperparamters:\\n', best_hyp)\n",
    "print()\n",
    "print(best_cv_score)"
   ]
  },
  {
   "cell_type": "code",
   "execution_count": null,
   "id": "3097aa88-d95d-4cd2-9d19-10910b1f5927",
   "metadata": {},
   "outputs": [],
   "source": [
    "#Instantianting a new random forest classifier with all the values of hyperparameters\n",
    "rfc_model = RandomForestClassifier(max_features = 'auto',min_samples_split = 4,n_estimators = 4,random_state = seed)\n",
    "rfc_model.fit(X_train, y_train)"
   ]
  },
  {
   "cell_type": "code",
   "execution_count": null,
   "id": "045a18ca-dfb7-4ca0-a616-4897a7aa530c",
   "metadata": {},
   "outputs": [],
   "source": [
    "rfc_model.fit(X_train, y_train)\n",
    "y_pred_rfc = rfc_model.predict(X_test)\n",
    "rfc_accuracymodel = accuracy_score(y_pred,y_test)\n",
    "accuracy.append(rfc_accuracymodel)\n",
    "print('The score of the model is:',(rfc_accuracymodel*100),'%')"
   ]
  },
  {
   "cell_type": "code",
   "execution_count": 41,
   "id": "49b75d49-d2d5-443c-bb32-92d28333c87a",
   "metadata": {},
   "outputs": [],
   "source": [
    "accuracy.append(rfc_accuracymodel)"
   ]
  },
  {
   "cell_type": "code",
   "execution_count": null,
   "id": "4df45875-7c22-44a5-bcd0-3b092a0506aa",
   "metadata": {},
   "outputs": [],
   "source": [
    "plot_confusion_matrix(rfc_model,y_test, y_pred,10,7)"
   ]
  },
  {
   "cell_type": "code",
   "execution_count": null,
   "id": "10a2e51e-e720-45bf-b55a-9fa6b7ec20e8",
   "metadata": {
    "tags": []
   },
   "outputs": [],
   "source": [
    "plot_confusion_matrix(rfc_model,y_test, y_pred,10,7)"
   ]
  },
  {
   "cell_type": "markdown",
   "id": "3d04f5dc-a88e-4867-ba5b-c84134cee05e",
   "metadata": {},
   "source": [
    "### Task 9: Comparing all of the models "
   ]
  },
  {
   "cell_type": "code",
   "execution_count": 44,
   "id": "a9598dbb-3965-432b-b148-76d863cf3d10",
   "metadata": {},
   "outputs": [
    {
     "data": {
      "text/plain": [
       "['Logistic Regression',\n",
       " 'Decision Tree',\n",
       " 'GaussianNB',\n",
       " 'SVC',\n",
       " 'RandomForestClassifier']"
      ]
     },
     "execution_count": 44,
     "metadata": {},
     "output_type": "execute_result"
    }
   ],
   "source": [
    "modelname"
   ]
  },
  {
   "cell_type": "code",
   "execution_count": 45,
   "id": "344bd773-9f57-40d0-9e08-98c1629f6516",
   "metadata": {},
   "outputs": [
    {
     "data": {
      "text/plain": [
       "[0.7633333333333333, 0.6066666666666667, 0.6966666666666667, 0.76, 0.76]"
      ]
     },
     "execution_count": 45,
     "metadata": {},
     "output_type": "execute_result"
    }
   ],
   "source": [
    "accuracy = accuracy[:5]\n",
    "accuracy"
   ]
  },
  {
   "cell_type": "code",
   "execution_count": 50,
   "id": "52e6b19b-0f30-419e-b35d-cdeddae2b5eb",
   "metadata": {},
   "outputs": [
    {
     "data": {
      "text/html": [
       "<div>\n",
       "<style scoped>\n",
       "    .dataframe tbody tr th:only-of-type {\n",
       "        vertical-align: middle;\n",
       "    }\n",
       "\n",
       "    .dataframe tbody tr th {\n",
       "        vertical-align: top;\n",
       "    }\n",
       "\n",
       "    .dataframe thead th {\n",
       "        text-align: right;\n",
       "    }\n",
       "</style>\n",
       "<table border=\"1\" class=\"dataframe\">\n",
       "  <thead>\n",
       "    <tr style=\"text-align: right;\">\n",
       "      <th></th>\n",
       "      <th>models</th>\n",
       "      <th>acc</th>\n",
       "    </tr>\n",
       "  </thead>\n",
       "  <tbody>\n",
       "    <tr>\n",
       "      <th>0</th>\n",
       "      <td>Logistic Regression</td>\n",
       "      <td>0.76</td>\n",
       "    </tr>\n",
       "    <tr>\n",
       "      <th>1</th>\n",
       "      <td>Decision Tree</td>\n",
       "      <td>0.61</td>\n",
       "    </tr>\n",
       "    <tr>\n",
       "      <th>2</th>\n",
       "      <td>GaussianNB</td>\n",
       "      <td>0.70</td>\n",
       "    </tr>\n",
       "    <tr>\n",
       "      <th>3</th>\n",
       "      <td>SVC</td>\n",
       "      <td>0.76</td>\n",
       "    </tr>\n",
       "    <tr>\n",
       "      <th>4</th>\n",
       "      <td>RandomForestClassifier</td>\n",
       "      <td>0.76</td>\n",
       "    </tr>\n",
       "  </tbody>\n",
       "</table>\n",
       "</div>"
      ],
      "text/plain": [
       "                   models   acc\n",
       "0     Logistic Regression  0.76\n",
       "1           Decision Tree  0.61\n",
       "2              GaussianNB  0.70\n",
       "3                     SVC  0.76\n",
       "4  RandomForestClassifier  0.76"
      ]
     },
     "execution_count": 50,
     "metadata": {},
     "output_type": "execute_result"
    }
   ],
   "source": [
    "accdf = pd.DataFrame()\n",
    "accdf['models'] = modelname\n",
    "accdf['acc'] = accuracy \n",
    "accdf"
   ]
  },
  {
   "cell_type": "code",
   "execution_count": 57,
   "id": "7001dc34-42ea-45b6-b759-64ab0d74feb5",
   "metadata": {},
   "outputs": [
    {
     "data": {
      "application/vnd.plotly.v1+json": {
       "config": {
        "plotlyServerURL": "https://plotly.com"
       },
       "data": [
        {
         "alignmentgroup": "True",
         "hovertemplate": "models=%{x}<br>acc=%{y}<br>text=%{text}<extra></extra>",
         "legendgroup": "",
         "marker": {
          "color": "purple"
         },
         "name": "",
         "offsetgroup": "",
         "orientation": "v",
         "showlegend": false,
         "text": [
          "0.76%",
          "0.61%",
          "0.70%",
          "0.76%",
          "0.76%"
         ],
         "textposition": "auto",
         "type": "bar",
         "x": [
          "Logistic Regression",
          "Decision Tree",
          "GaussianNB",
          "SVC",
          "RandomForestClassifier"
         ],
         "xaxis": "x",
         "y": [
          0.76,
          0.61,
          0.7,
          0.76,
          0.76
         ],
         "yaxis": "y"
        }
       ],
       "layout": {
        "autosize": true,
        "barmode": "relative",
        "legend": {
         "tracegroupgap": 0
        },
        "template": {
         "data": {
          "bar": [
           {
            "error_x": {
             "color": "#2a3f5f"
            },
            "error_y": {
             "color": "#2a3f5f"
            },
            "marker": {
             "line": {
              "color": "#E5ECF6",
              "width": 0.5
             }
            },
            "type": "bar"
           }
          ],
          "barpolar": [
           {
            "marker": {
             "line": {
              "color": "#E5ECF6",
              "width": 0.5
             }
            },
            "type": "barpolar"
           }
          ],
          "carpet": [
           {
            "aaxis": {
             "endlinecolor": "#2a3f5f",
             "gridcolor": "white",
             "linecolor": "white",
             "minorgridcolor": "white",
             "startlinecolor": "#2a3f5f"
            },
            "baxis": {
             "endlinecolor": "#2a3f5f",
             "gridcolor": "white",
             "linecolor": "white",
             "minorgridcolor": "white",
             "startlinecolor": "#2a3f5f"
            },
            "type": "carpet"
           }
          ],
          "choropleth": [
           {
            "colorbar": {
             "outlinewidth": 0,
             "ticks": ""
            },
            "type": "choropleth"
           }
          ],
          "contour": [
           {
            "colorbar": {
             "outlinewidth": 0,
             "ticks": ""
            },
            "colorscale": [
             [
              0,
              "#0d0887"
             ],
             [
              0.1111111111111111,
              "#46039f"
             ],
             [
              0.2222222222222222,
              "#7201a8"
             ],
             [
              0.3333333333333333,
              "#9c179e"
             ],
             [
              0.4444444444444444,
              "#bd3786"
             ],
             [
              0.5555555555555556,
              "#d8576b"
             ],
             [
              0.6666666666666666,
              "#ed7953"
             ],
             [
              0.7777777777777778,
              "#fb9f3a"
             ],
             [
              0.8888888888888888,
              "#fdca26"
             ],
             [
              1,
              "#f0f921"
             ]
            ],
            "type": "contour"
           }
          ],
          "contourcarpet": [
           {
            "colorbar": {
             "outlinewidth": 0,
             "ticks": ""
            },
            "type": "contourcarpet"
           }
          ],
          "heatmap": [
           {
            "colorbar": {
             "outlinewidth": 0,
             "ticks": ""
            },
            "colorscale": [
             [
              0,
              "#0d0887"
             ],
             [
              0.1111111111111111,
              "#46039f"
             ],
             [
              0.2222222222222222,
              "#7201a8"
             ],
             [
              0.3333333333333333,
              "#9c179e"
             ],
             [
              0.4444444444444444,
              "#bd3786"
             ],
             [
              0.5555555555555556,
              "#d8576b"
             ],
             [
              0.6666666666666666,
              "#ed7953"
             ],
             [
              0.7777777777777778,
              "#fb9f3a"
             ],
             [
              0.8888888888888888,
              "#fdca26"
             ],
             [
              1,
              "#f0f921"
             ]
            ],
            "type": "heatmap"
           }
          ],
          "heatmapgl": [
           {
            "colorbar": {
             "outlinewidth": 0,
             "ticks": ""
            },
            "colorscale": [
             [
              0,
              "#0d0887"
             ],
             [
              0.1111111111111111,
              "#46039f"
             ],
             [
              0.2222222222222222,
              "#7201a8"
             ],
             [
              0.3333333333333333,
              "#9c179e"
             ],
             [
              0.4444444444444444,
              "#bd3786"
             ],
             [
              0.5555555555555556,
              "#d8576b"
             ],
             [
              0.6666666666666666,
              "#ed7953"
             ],
             [
              0.7777777777777778,
              "#fb9f3a"
             ],
             [
              0.8888888888888888,
              "#fdca26"
             ],
             [
              1,
              "#f0f921"
             ]
            ],
            "type": "heatmapgl"
           }
          ],
          "histogram": [
           {
            "marker": {
             "colorbar": {
              "outlinewidth": 0,
              "ticks": ""
             }
            },
            "type": "histogram"
           }
          ],
          "histogram2d": [
           {
            "colorbar": {
             "outlinewidth": 0,
             "ticks": ""
            },
            "colorscale": [
             [
              0,
              "#0d0887"
             ],
             [
              0.1111111111111111,
              "#46039f"
             ],
             [
              0.2222222222222222,
              "#7201a8"
             ],
             [
              0.3333333333333333,
              "#9c179e"
             ],
             [
              0.4444444444444444,
              "#bd3786"
             ],
             [
              0.5555555555555556,
              "#d8576b"
             ],
             [
              0.6666666666666666,
              "#ed7953"
             ],
             [
              0.7777777777777778,
              "#fb9f3a"
             ],
             [
              0.8888888888888888,
              "#fdca26"
             ],
             [
              1,
              "#f0f921"
             ]
            ],
            "type": "histogram2d"
           }
          ],
          "histogram2dcontour": [
           {
            "colorbar": {
             "outlinewidth": 0,
             "ticks": ""
            },
            "colorscale": [
             [
              0,
              "#0d0887"
             ],
             [
              0.1111111111111111,
              "#46039f"
             ],
             [
              0.2222222222222222,
              "#7201a8"
             ],
             [
              0.3333333333333333,
              "#9c179e"
             ],
             [
              0.4444444444444444,
              "#bd3786"
             ],
             [
              0.5555555555555556,
              "#d8576b"
             ],
             [
              0.6666666666666666,
              "#ed7953"
             ],
             [
              0.7777777777777778,
              "#fb9f3a"
             ],
             [
              0.8888888888888888,
              "#fdca26"
             ],
             [
              1,
              "#f0f921"
             ]
            ],
            "type": "histogram2dcontour"
           }
          ],
          "mesh3d": [
           {
            "colorbar": {
             "outlinewidth": 0,
             "ticks": ""
            },
            "type": "mesh3d"
           }
          ],
          "parcoords": [
           {
            "line": {
             "colorbar": {
              "outlinewidth": 0,
              "ticks": ""
             }
            },
            "type": "parcoords"
           }
          ],
          "pie": [
           {
            "automargin": true,
            "type": "pie"
           }
          ],
          "scatter": [
           {
            "marker": {
             "colorbar": {
              "outlinewidth": 0,
              "ticks": ""
             }
            },
            "type": "scatter"
           }
          ],
          "scatter3d": [
           {
            "line": {
             "colorbar": {
              "outlinewidth": 0,
              "ticks": ""
             }
            },
            "marker": {
             "colorbar": {
              "outlinewidth": 0,
              "ticks": ""
             }
            },
            "type": "scatter3d"
           }
          ],
          "scattercarpet": [
           {
            "marker": {
             "colorbar": {
              "outlinewidth": 0,
              "ticks": ""
             }
            },
            "type": "scattercarpet"
           }
          ],
          "scattergeo": [
           {
            "marker": {
             "colorbar": {
              "outlinewidth": 0,
              "ticks": ""
             }
            },
            "type": "scattergeo"
           }
          ],
          "scattergl": [
           {
            "marker": {
             "colorbar": {
              "outlinewidth": 0,
              "ticks": ""
             }
            },
            "type": "scattergl"
           }
          ],
          "scattermapbox": [
           {
            "marker": {
             "colorbar": {
              "outlinewidth": 0,
              "ticks": ""
             }
            },
            "type": "scattermapbox"
           }
          ],
          "scatterpolar": [
           {
            "marker": {
             "colorbar": {
              "outlinewidth": 0,
              "ticks": ""
             }
            },
            "type": "scatterpolar"
           }
          ],
          "scatterpolargl": [
           {
            "marker": {
             "colorbar": {
              "outlinewidth": 0,
              "ticks": ""
             }
            },
            "type": "scatterpolargl"
           }
          ],
          "scatterternary": [
           {
            "marker": {
             "colorbar": {
              "outlinewidth": 0,
              "ticks": ""
             }
            },
            "type": "scatterternary"
           }
          ],
          "surface": [
           {
            "colorbar": {
             "outlinewidth": 0,
             "ticks": ""
            },
            "colorscale": [
             [
              0,
              "#0d0887"
             ],
             [
              0.1111111111111111,
              "#46039f"
             ],
             [
              0.2222222222222222,
              "#7201a8"
             ],
             [
              0.3333333333333333,
              "#9c179e"
             ],
             [
              0.4444444444444444,
              "#bd3786"
             ],
             [
              0.5555555555555556,
              "#d8576b"
             ],
             [
              0.6666666666666666,
              "#ed7953"
             ],
             [
              0.7777777777777778,
              "#fb9f3a"
             ],
             [
              0.8888888888888888,
              "#fdca26"
             ],
             [
              1,
              "#f0f921"
             ]
            ],
            "type": "surface"
           }
          ],
          "table": [
           {
            "cells": {
             "fill": {
              "color": "#EBF0F8"
             },
             "line": {
              "color": "white"
             }
            },
            "header": {
             "fill": {
              "color": "#C8D4E3"
             },
             "line": {
              "color": "white"
             }
            },
            "type": "table"
           }
          ]
         },
         "layout": {
          "annotationdefaults": {
           "arrowcolor": "#2a3f5f",
           "arrowhead": 0,
           "arrowwidth": 1
          },
          "autotypenumbers": "strict",
          "coloraxis": {
           "colorbar": {
            "outlinewidth": 0,
            "ticks": ""
           }
          },
          "colorscale": {
           "diverging": [
            [
             0,
             "#8e0152"
            ],
            [
             0.1,
             "#c51b7d"
            ],
            [
             0.2,
             "#de77ae"
            ],
            [
             0.3,
             "#f1b6da"
            ],
            [
             0.4,
             "#fde0ef"
            ],
            [
             0.5,
             "#f7f7f7"
            ],
            [
             0.6,
             "#e6f5d0"
            ],
            [
             0.7,
             "#b8e186"
            ],
            [
             0.8,
             "#7fbc41"
            ],
            [
             0.9,
             "#4d9221"
            ],
            [
             1,
             "#276419"
            ]
           ],
           "sequential": [
            [
             0,
             "#0d0887"
            ],
            [
             0.1111111111111111,
             "#46039f"
            ],
            [
             0.2222222222222222,
             "#7201a8"
            ],
            [
             0.3333333333333333,
             "#9c179e"
            ],
            [
             0.4444444444444444,
             "#bd3786"
            ],
            [
             0.5555555555555556,
             "#d8576b"
            ],
            [
             0.6666666666666666,
             "#ed7953"
            ],
            [
             0.7777777777777778,
             "#fb9f3a"
            ],
            [
             0.8888888888888888,
             "#fdca26"
            ],
            [
             1,
             "#f0f921"
            ]
           ],
           "sequentialminus": [
            [
             0,
             "#0d0887"
            ],
            [
             0.1111111111111111,
             "#46039f"
            ],
            [
             0.2222222222222222,
             "#7201a8"
            ],
            [
             0.3333333333333333,
             "#9c179e"
            ],
            [
             0.4444444444444444,
             "#bd3786"
            ],
            [
             0.5555555555555556,
             "#d8576b"
            ],
            [
             0.6666666666666666,
             "#ed7953"
            ],
            [
             0.7777777777777778,
             "#fb9f3a"
            ],
            [
             0.8888888888888888,
             "#fdca26"
            ],
            [
             1,
             "#f0f921"
            ]
           ]
          },
          "colorway": [
           "#636efa",
           "#EF553B",
           "#00cc96",
           "#ab63fa",
           "#FFA15A",
           "#19d3f3",
           "#FF6692",
           "#B6E880",
           "#FF97FF",
           "#FECB52"
          ],
          "font": {
           "color": "#2a3f5f"
          },
          "geo": {
           "bgcolor": "white",
           "lakecolor": "white",
           "landcolor": "#E5ECF6",
           "showlakes": true,
           "showland": true,
           "subunitcolor": "white"
          },
          "hoverlabel": {
           "align": "left"
          },
          "hovermode": "closest",
          "mapbox": {
           "style": "light"
          },
          "paper_bgcolor": "white",
          "plot_bgcolor": "#E5ECF6",
          "polar": {
           "angularaxis": {
            "gridcolor": "white",
            "linecolor": "white",
            "ticks": ""
           },
           "bgcolor": "#E5ECF6",
           "radialaxis": {
            "gridcolor": "white",
            "linecolor": "white",
            "ticks": ""
           }
          },
          "scene": {
           "xaxis": {
            "backgroundcolor": "#E5ECF6",
            "gridcolor": "white",
            "gridwidth": 2,
            "linecolor": "white",
            "showbackground": true,
            "ticks": "",
            "zerolinecolor": "white"
           },
           "yaxis": {
            "backgroundcolor": "#E5ECF6",
            "gridcolor": "white",
            "gridwidth": 2,
            "linecolor": "white",
            "showbackground": true,
            "ticks": "",
            "zerolinecolor": "white"
           },
           "zaxis": {
            "backgroundcolor": "#E5ECF6",
            "gridcolor": "white",
            "gridwidth": 2,
            "linecolor": "white",
            "showbackground": true,
            "ticks": "",
            "zerolinecolor": "white"
           }
          },
          "shapedefaults": {
           "line": {
            "color": "#2a3f5f"
           }
          },
          "ternary": {
           "aaxis": {
            "gridcolor": "white",
            "linecolor": "white",
            "ticks": ""
           },
           "baxis": {
            "gridcolor": "white",
            "linecolor": "white",
            "ticks": ""
           },
           "bgcolor": "#E5ECF6",
           "caxis": {
            "gridcolor": "white",
            "linecolor": "white",
            "ticks": ""
           }
          },
          "title": {
           "x": 0.05
          },
          "xaxis": {
           "automargin": true,
           "gridcolor": "white",
           "linecolor": "white",
           "ticks": "",
           "title": {
            "standoff": 15
           },
           "zerolinecolor": "white",
           "zerolinewidth": 2
          },
          "yaxis": {
           "automargin": true,
           "gridcolor": "white",
           "linecolor": "white",
           "ticks": "",
           "title": {
            "standoff": 15
           },
           "zerolinecolor": "white",
           "zerolinewidth": 2
          }
         }
        },
        "title": {
         "text": "Accuracy Comparison of Supervised Models"
        },
        "xaxis": {
         "anchor": "y",
         "autorange": true,
         "domain": [
          0,
          1
         ],
         "range": [
          -0.5,
          4.5
         ],
         "title": {
          "text": "models"
         },
         "type": "category"
        },
        "yaxis": {
         "anchor": "x",
         "autorange": true,
         "domain": [
          0,
          1
         ],
         "range": [
          0,
          0.8
         ],
         "title": {
          "text": "acc"
         },
         "type": "linear"
        }
       }
      },
      "image/png": "[encoded data removed]",
      "text/html": [
       "<div>                            <div id=\"37f26e7a-2e49-4d0f-95cb-69f6924a4675\" class=\"plotly-graph-div\" style=\"height:525px; width:100%;\"></div>            <script type=\"text/javascript\">                require([\"plotly\"], function(Plotly) {                    window.PLOTLYENV=window.PLOTLYENV || {};                                    if (document.getElementById(\"37f26e7a-2e49-4d0f-95cb-69f6924a4675\")) {                    Plotly.newPlot(                        \"37f26e7a-2e49-4d0f-95cb-69f6924a4675\",                        [{\"alignmentgroup\": \"True\", \"hovertemplate\": \"models=%{x}<br>acc=%{y}<br>text=%{text}<extra></extra>\", \"legendgroup\": \"\", \"marker\": {\"color\": \"purple\"}, \"name\": \"\", \"offsetgroup\": \"\", \"orientation\": \"v\", \"showlegend\": false, \"text\": [\"0.76%\", \"0.61%\", \"0.70%\", \"0.76%\", \"0.76%\"], \"textposition\": \"auto\", \"type\": \"bar\", \"x\": [\"Logistic Regression\", \"Decision Tree\", \"GaussianNB\", \"SVC\", \"RandomForestClassifier\"], \"xaxis\": \"x\", \"y\": [0.76, 0.61, 0.7, 0.76, 0.76], \"yaxis\": \"y\"}],                        {\"barmode\": \"relative\", \"legend\": {\"tracegroupgap\": 0}, \"template\": {\"data\": {\"bar\": [{\"error_x\": {\"color\": \"#2a3f5f\"}, \"error_y\": {\"color\": \"#2a3f5f\"}, \"marker\": {\"line\": {\"color\": \"#E5ECF6\", \"width\": 0.5}}, \"type\": \"bar\"}], \"barpolar\": [{\"marker\": {\"line\": {\"color\": \"#E5ECF6\", \"width\": 0.5}}, \"type\": \"barpolar\"}], \"carpet\": [{\"aaxis\": {\"endlinecolor\": \"#2a3f5f\", \"gridcolor\": \"white\", \"linecolor\": \"white\", \"minorgridcolor\": \"white\", \"startlinecolor\": \"#2a3f5f\"}, \"baxis\": {\"endlinecolor\": \"#2a3f5f\", \"gridcolor\": \"white\", \"linecolor\": \"white\", \"minorgridcolor\": \"white\", \"startlinecolor\": \"#2a3f5f\"}, \"type\": \"carpet\"}], \"choropleth\": [{\"colorbar\": {\"outlinewidth\": 0, \"ticks\": \"\"}, \"type\": \"choropleth\"}], \"contour\": [{\"colorbar\": {\"outlinewidth\": 0, \"ticks\": \"\"}, \"colorscale\": [[0.0, \"#0d0887\"], [0.1111111111111111, \"#46039f\"], [0.2222222222222222, \"#7201a8\"], [0.3333333333333333, \"#9c179e\"], [0.4444444444444444, \"#bd3786\"], [0.5555555555555556, \"#d8576b\"], [0.6666666666666666, \"#ed7953\"], [0.7777777777777778, \"#fb9f3a\"], [0.8888888888888888, \"#fdca26\"], [1.0, \"#f0f921\"]], \"type\": \"contour\"}], \"contourcarpet\": [{\"colorbar\": {\"outlinewidth\": 0, \"ticks\": \"\"}, \"type\": \"contourcarpet\"}], \"heatmap\": [{\"colorbar\": {\"outlinewidth\": 0, \"ticks\": \"\"}, \"colorscale\": [[0.0, \"#0d0887\"], [0.1111111111111111, \"#46039f\"], [0.2222222222222222, \"#7201a8\"], [0.3333333333333333, \"#9c179e\"], [0.4444444444444444, \"#bd3786\"], [0.5555555555555556, \"#d8576b\"], [0.6666666666666666, \"#ed7953\"], [0.7777777777777778, \"#fb9f3a\"], [0.8888888888888888, \"#fdca26\"], [1.0, \"#f0f921\"]], \"type\": \"heatmap\"}], \"heatmapgl\": [{\"colorbar\": {\"outlinewidth\": 0, \"ticks\": \"\"}, \"colorscale\": [[0.0, \"#0d0887\"], [0.1111111111111111, \"#46039f\"], [0.2222222222222222, \"#7201a8\"], [0.3333333333333333, \"#9c179e\"], [0.4444444444444444, \"#bd3786\"], [0.5555555555555556, \"#d8576b\"], [0.6666666666666666, \"#ed7953\"], [0.7777777777777778, \"#fb9f3a\"], [0.8888888888888888, \"#fdca26\"], [1.0, \"#f0f921\"]], \"type\": \"heatmapgl\"}], \"histogram\": [{\"marker\": {\"colorbar\": {\"outlinewidth\": 0, \"ticks\": \"\"}}, \"type\": \"histogram\"}], \"histogram2d\": [{\"colorbar\": {\"outlinewidth\": 0, \"ticks\": \"\"}, \"colorscale\": [[0.0, \"#0d0887\"], [0.1111111111111111, \"#46039f\"], [0.2222222222222222, \"#7201a8\"], [0.3333333333333333, \"#9c179e\"], [0.4444444444444444, \"#bd3786\"], [0.5555555555555556, \"#d8576b\"], [0.6666666666666666, \"#ed7953\"], [0.7777777777777778, \"#fb9f3a\"], [0.8888888888888888, \"#fdca26\"], [1.0, \"#f0f921\"]], \"type\": \"histogram2d\"}], \"histogram2dcontour\": [{\"colorbar\": {\"outlinewidth\": 0, \"ticks\": \"\"}, \"colorscale\": [[0.0, \"#0d0887\"], [0.1111111111111111, \"#46039f\"], [0.2222222222222222, \"#7201a8\"], [0.3333333333333333, \"#9c179e\"], [0.4444444444444444, \"#bd3786\"], [0.5555555555555556, \"#d8576b\"], [0.6666666666666666, \"#ed7953\"], [0.7777777777777778, \"#fb9f3a\"], [0.8888888888888888, \"#fdca26\"], [1.0, \"#f0f921\"]], \"type\": \"histogram2dcontour\"}], \"mesh3d\": [{\"colorbar\": {\"outlinewidth\": 0, \"ticks\": \"\"}, \"type\": \"mesh3d\"}], \"parcoords\": [{\"line\": {\"colorbar\": {\"outlinewidth\": 0, \"ticks\": \"\"}}, \"type\": \"parcoords\"}], \"pie\": [{\"automargin\": true, \"type\": \"pie\"}], \"scatter\": [{\"marker\": {\"colorbar\": {\"outlinewidth\": 0, \"ticks\": \"\"}}, \"type\": \"scatter\"}], \"scatter3d\": [{\"line\": {\"colorbar\": {\"outlinewidth\": 0, \"ticks\": \"\"}}, \"marker\": {\"colorbar\": {\"outlinewidth\": 0, \"ticks\": \"\"}}, \"type\": \"scatter3d\"}], \"scattercarpet\": [{\"marker\": {\"colorbar\": {\"outlinewidth\": 0, \"ticks\": \"\"}}, \"type\": \"scattercarpet\"}], \"scattergeo\": [{\"marker\": {\"colorbar\": {\"outlinewidth\": 0, \"ticks\": \"\"}}, \"type\": \"scattergeo\"}], \"scattergl\": [{\"marker\": {\"colorbar\": {\"outlinewidth\": 0, \"ticks\": \"\"}}, \"type\": \"scattergl\"}], \"scattermapbox\": [{\"marker\": {\"colorbar\": {\"outlinewidth\": 0, \"ticks\": \"\"}}, \"type\": \"scattermapbox\"}], \"scatterpolar\": [{\"marker\": {\"colorbar\": {\"outlinewidth\": 0, \"ticks\": \"\"}}, \"type\": \"scatterpolar\"}], \"scatterpolargl\": [{\"marker\": {\"colorbar\": {\"outlinewidth\": 0, \"ticks\": \"\"}}, \"type\": \"scatterpolargl\"}], \"scatterternary\": [{\"marker\": {\"colorbar\": {\"outlinewidth\": 0, \"ticks\": \"\"}}, \"type\": \"scatterternary\"}], \"surface\": [{\"colorbar\": {\"outlinewidth\": 0, \"ticks\": \"\"}, \"colorscale\": [[0.0, \"#0d0887\"], [0.1111111111111111, \"#46039f\"], [0.2222222222222222, \"#7201a8\"], [0.3333333333333333, \"#9c179e\"], [0.4444444444444444, \"#bd3786\"], [0.5555555555555556, \"#d8576b\"], [0.6666666666666666, \"#ed7953\"], [0.7777777777777778, \"#fb9f3a\"], [0.8888888888888888, \"#fdca26\"], [1.0, \"#f0f921\"]], \"type\": \"surface\"}], \"table\": [{\"cells\": {\"fill\": {\"color\": \"#EBF0F8\"}, \"line\": {\"color\": \"white\"}}, \"header\": {\"fill\": {\"color\": \"#C8D4E3\"}, \"line\": {\"color\": \"white\"}}, \"type\": \"table\"}]}, \"layout\": {\"annotationdefaults\": {\"arrowcolor\": \"#2a3f5f\", \"arrowhead\": 0, \"arrowwidth\": 1}, \"autotypenumbers\": \"strict\", \"coloraxis\": {\"colorbar\": {\"outlinewidth\": 0, \"ticks\": \"\"}}, \"colorscale\": {\"diverging\": [[0, \"#8e0152\"], [0.1, \"#c51b7d\"], [0.2, \"#de77ae\"], [0.3, \"#f1b6da\"], [0.4, \"#fde0ef\"], [0.5, \"#f7f7f7\"], [0.6, \"#e6f5d0\"], [0.7, \"#b8e186\"], [0.8, \"#7fbc41\"], [0.9, \"#4d9221\"], [1, \"#276419\"]], \"sequential\": [[0.0, \"#0d0887\"], [0.1111111111111111, \"#46039f\"], [0.2222222222222222, \"#7201a8\"], [0.3333333333333333, \"#9c179e\"], [0.4444444444444444, \"#bd3786\"], [0.5555555555555556, \"#d8576b\"], [0.6666666666666666, \"#ed7953\"], [0.7777777777777778, \"#fb9f3a\"], [0.8888888888888888, \"#fdca26\"], [1.0, \"#f0f921\"]], \"sequentialminus\": [[0.0, \"#0d0887\"], [0.1111111111111111, \"#46039f\"], [0.2222222222222222, \"#7201a8\"], [0.3333333333333333, \"#9c179e\"], [0.4444444444444444, \"#bd3786\"], [0.5555555555555556, \"#d8576b\"], [0.6666666666666666, \"#ed7953\"], [0.7777777777777778, \"#fb9f3a\"], [0.8888888888888888, \"#fdca26\"], [1.0, \"#f0f921\"]]}, \"colorway\": [\"#636efa\", \"#EF553B\", \"#00cc96\", \"#ab63fa\", \"#FFA15A\", \"#19d3f3\", \"#FF6692\", \"#B6E880\", \"#FF97FF\", \"#FECB52\"], \"font\": {\"color\": \"#2a3f5f\"}, \"geo\": {\"bgcolor\": \"white\", \"lakecolor\": \"white\", \"landcolor\": \"#E5ECF6\", \"showlakes\": true, \"showland\": true, \"subunitcolor\": \"white\"}, \"hoverlabel\": {\"align\": \"left\"}, \"hovermode\": \"closest\", \"mapbox\": {\"style\": \"light\"}, \"paper_bgcolor\": \"white\", \"plot_bgcolor\": \"#E5ECF6\", \"polar\": {\"angularaxis\": {\"gridcolor\": \"white\", \"linecolor\": \"white\", \"ticks\": \"\"}, \"bgcolor\": \"#E5ECF6\", \"radialaxis\": {\"gridcolor\": \"white\", \"linecolor\": \"white\", \"ticks\": \"\"}}, \"scene\": {\"xaxis\": {\"backgroundcolor\": \"#E5ECF6\", \"gridcolor\": \"white\", \"gridwidth\": 2, \"linecolor\": \"white\", \"showbackground\": true, \"ticks\": \"\", \"zerolinecolor\": \"white\"}, \"yaxis\": {\"backgroundcolor\": \"#E5ECF6\", \"gridcolor\": \"white\", \"gridwidth\": 2, \"linecolor\": \"white\", \"showbackground\": true, \"ticks\": \"\", \"zerolinecolor\": \"white\"}, \"zaxis\": {\"backgroundcolor\": \"#E5ECF6\", \"gridcolor\": \"white\", \"gridwidth\": 2, \"linecolor\": \"white\", \"showbackground\": true, \"ticks\": \"\", \"zerolinecolor\": \"white\"}}, \"shapedefaults\": {\"line\": {\"color\": \"#2a3f5f\"}}, \"ternary\": {\"aaxis\": {\"gridcolor\": \"white\", \"linecolor\": \"white\", \"ticks\": \"\"}, \"baxis\": {\"gridcolor\": \"white\", \"linecolor\": \"white\", \"ticks\": \"\"}, \"bgcolor\": \"#E5ECF6\", \"caxis\": {\"gridcolor\": \"white\", \"linecolor\": \"white\", \"ticks\": \"\"}}, \"title\": {\"x\": 0.05}, \"xaxis\": {\"automargin\": true, \"gridcolor\": \"white\", \"linecolor\": \"white\", \"ticks\": \"\", \"title\": {\"standoff\": 15}, \"zerolinecolor\": \"white\", \"zerolinewidth\": 2}, \"yaxis\": {\"automargin\": true, \"gridcolor\": \"white\", \"linecolor\": \"white\", \"ticks\": \"\", \"title\": {\"standoff\": 15}, \"zerolinecolor\": \"white\", \"zerolinewidth\": 2}}}, \"title\": {\"text\": \"Accuracy Comparison of Supervised Models\"}, \"xaxis\": {\"anchor\": \"y\", \"domain\": [0.0, 1.0], \"title\": {\"text\": \"models\"}}, \"yaxis\": {\"anchor\": \"x\", \"domain\": [0.0, 1.0], \"title\": {\"text\": \"acc\"}}},                        {\"responsive\": true}                    ).then(function(){\n",
       "                            \n",
       "var gd = document.getElementById('37f26e7a-2e49-4d0f-95cb-69f6924a4675');\n",
       "var x = new MutationObserver(function (mutations, observer) {{\n",
       "        var display = window.getComputedStyle(gd).display;\n",
       "        if (!display || display === 'none') {{\n",
       "            console.log([gd, 'removed!']);\n",
       "            Plotly.purge(gd);\n",
       "            observer.disconnect();\n",
       "        }}\n",
       "}});\n",
       "\n",
       "// Listen for the removal of the full notebook cells\n",
       "var notebookContainer = gd.closest('#notebook-container');\n",
       "if (notebookContainer) {{\n",
       "    x.observe(notebookContainer, {childList: true});\n",
       "}}\n",
       "\n",
       "// Listen for the clearing of the current output cell\n",
       "var outputEl = gd.closest('.output');\n",
       "if (outputEl) {{\n",
       "    x.observe(outputEl, {childList: true});\n",
       "}}\n",
       "\n",
       "                        })                };                });            </script>        </div>"
      ]
     },
     "metadata": {},
     "output_type": "display_data"
    }
   ],
   "source": [
    "fig = px.bar(accdf, x='models', y='acc', text=accdf['acc'].apply(lambda x: '{0:1.2f}%'.format(x)), title = 'Accuracy Comparison of Supervised Models')\n",
    "fig.update_traces(marker_color='purple')\n"
   ]
  },
  {
   "cell_type": "markdown",
   "id": "7c1365c4-0bfa-4cea-8325-640fd38959b9",
   "metadata": {},
   "source": [
    "### Task 10: Comparing Logistic Regression and SVC\n",
    "By looking at the confusion matrix, we can state `Logistic Regression` as the base model for classification. "
   ]
  },
  {
   "cell_type": "markdown",
   "id": "6a6b687d-6db1-4422-bdfe-e5b8e80c25b9",
   "metadata": {},
   "source": [
    "### Task 11: Plotting Roc/ Precision Recall Curves"
   ]
  },
  {
   "cell_type": "markdown",
   "id": "15910e75-be87-44e6-b6be-f394727a87a9",
   "metadata": {},
   "source": [
    "- ROC curves should be used when there are roughly equal numbers of observations for each class.\n",
    "- Precision-Recall curves should be used when there is a moderate to large class imbalance."
   ]
  },
  {
   "cell_type": "markdown",
   "id": "e4fce21c-10ee-4dd5-a942-2efb487ef7d9",
   "metadata": {},
   "source": [
    "It is a probability curve that plopred_prob1 = model1.predict_proba(X_test)ts the TPR against FPR at various threshold values and essentially separates the ‘signal’ from the ‘noise’. The Area Under the Curve (AUC) is the measure of the ability of a classifier to distinguish between classes and is used as a summary of the ROC curve."
   ]
  },
  {
   "cell_type": "code",
   "execution_count": null,
   "id": "fc96a241-499d-475f-9d30-4bf2e03129a0",
   "metadata": {},
   "outputs": [],
   "source": [
    "from sklearn.metrics import roc_curve\n",
    "from sklearn.metrics import roc_auc_score"
   ]
  },
  {
   "cell_type": "code",
   "execution_count": null,
   "id": "4fe9e15f-78d6-4b46-ab95-2c482ee7ca52",
   "metadata": {},
   "outputs": [],
   "source": [
    "def plot_roc_curve(model1,model2, y_test, y_pred):\n",
    "    #calculating the predictive probability of different classes for our two models logistics and svc\n",
    "    pred_prob1 = model1.predict_proba(X_test)\n",
    "    pred_prob2 = model2.predict_proba(X_test)\n",
    "    \n",
    "    #print roc/auc score\n",
    "    roc_auc_score_lr = roc_auc_score(y_test, pred_prob1, multi_class = 'ovr')\n",
    "    roc_auc_score_svc = roc_auc_score(y_test, pred_prob2, multi_class = 'ovr')\n",
    "\n",
    "    print(f'Logistic Regression Score:  {round(roc_auc_score_lr,2)}\\n Support Vector Classifier: {round(roc_auc_score_svc,2)}')\n",
    "    \n",
    "    # roc curve for models\n",
    "    fpr1, tpr1, thresh1 = roc_curve(y_test, pred_prob1[:,1], pos_label=1)\n",
    "    fpr2, tpr2, thresh2 = roc_curve(y_test, pred_prob2[:,1], pos_label=1)\n",
    "    # roc curve for tpr = fpr \n",
    "    random_probs = [0 for i in range(len(y_test))]\n",
    "    p_fpr, p_tpr, _ = roc_curve(y_test, random_probs, pos_label=1)\n",
    "    \n",
    "    # plot roc curves\n",
    "    plt.plot(fpr1, tpr1, linestyle='--',color='orange', label='Logistic Regression')\n",
    "    plt.plot(fpr2, tpr2, linestyle='--',color='green', label='SVC')\n",
    "    plt.plot(p_fpr, p_tpr, linestyle='--', color='blue')\n",
    "    # title\n",
    "    plt.title('ROC curve')\n",
    "    # x label\n",
    "    plt.xlabel('False Positive Rate')\n",
    "    # y label\n",
    "    plt.ylabel('True Positive rate')\n",
    "\n",
    "    plt.legend(loc='best')\n",
    "    plt.savefig('ROC',dpi=300)\n",
    "    plt.show();\n",
    "    plt.show()\n"
   ]
  },
  {
   "cell_type": "code",
   "execution_count": null,
   "id": "5a591592-914e-41a9-939b-e0d4b2bbe733",
   "metadata": {},
   "outputs": [],
   "source": [
    "plot_roc_curve(lr_clf, svc, y_test, y_pred)"
   ]
  },
  {
   "cell_type": "markdown",
   "id": "997394f7-00d6-42bf-9e90-cc6ff0cf6507",
   "metadata": {},
   "source": [
    "When <b>AUC = 1</b>, then the classifier is able to perfectly distinguish between all the Positive and the Negative class points correctly."
   ]
  },
  {
   "cell_type": "markdown",
   "id": "61e79146-1dbd-459a-a112-1b734ab36e68",
   "metadata": {},
   "source": [
    "### Task 12: Predicting on New Data\n",
    "Now, to make predictions, we'll need to add some preprocessing steps to convert a simple string into the correct format for our model to consume and make a prediction.\n",
    "\n",
    "For this use use a function called predict_newdata. This function takes the string, tokenizes it using BertTokenizer and returns throse token tensors as a dictionary with 'input_ids' and 'attention_mask' "
   ]
  },
  {
   "cell_type": "code",
   "execution_count": 217,
   "id": "f6c3e08c-59b8-4556-ad66-782cb639297f",
   "metadata": {},
   "outputs": [],
   "source": [
    "topics={0 :'topic1', \n",
    "                 1 : 'topic2', \n",
    "                 2 : 'topic3'}"
   ]
  },
  {
   "cell_type": "code",
   "execution_count": 219,
   "id": "596567dc-47fc-4505-9755-06f7d3ed3a7c",
   "metadata": {},
   "outputs": [],
   "source": [
    "def predict_newdata(keyword,classifier):\n",
    "    model_class, tokenizer_class, pretrained_weights = (tf.BertModel, tf.BertTokenizerFast, 'bert-base-uncased')\n",
    "\n",
    "    # Load pretrained model/tokenizer\n",
    "    tokenizer = tokenizer_class.from_pretrained(pretrained_weights)\n",
    "    model = model_class.from_pretrained(pretrained_weights)\n",
    "    \n",
    "    #Tokenizing\n",
    "    tokenized = tokenizer.batch_encode_plus(list(keyword),\n",
    "                                        max_length = 5,\n",
    "                                        pad_to_max_length=True,\n",
    "                                        truncation=True)\n",
    "    train_seq = torch.tensor(tokenized['input_ids'])\n",
    "    train_mask = torch.tensor(tokenized['attention_mask']) \n",
    "\n",
    "    #Labels \n",
    "    label = df['Label']\n",
    "    labels = torch.tensor(label.tolist())\n",
    "\n",
    "    input_ids = torch.tensor(train_seq)  \n",
    "    attention_mask = torch.tensor(train_mask)\n",
    "    #print(input_ids)\n",
    "    #print(attention_mask)\n",
    "\n",
    "    #print(input_ids.shape)\n",
    "    #print(attention_mask.shape)\n",
    "\n",
    "    #Taking in the last CLS layer\n",
    "    with torch.no_grad():\n",
    "        last_hidden_states = model(input_ids, attention_mask=attention_mask)\n",
    "    \n",
    "    features = last_hidden_states[0][:,0,:].numpy()\n",
    "\n",
    "    topic = classifier.predict(features) \n",
    "    topic = np.argmax(topic)\n",
    "    print(f'Keyword: {keyword} \\nTopic: {topic}')\n",
    "  \n",
    "    return topic"
   ]
  },
  {
   "cell_type": "code",
   "execution_count": null,
   "id": "12d165ae-c9b3-4437-b5db-03f766ebc9dc",
   "metadata": {
    "tags": []
   },
   "outputs": [],
   "source": [
    "predict_newdata(\"best lenses for me\", lr_clf)"
   ]
  }
 ],
 "metadata": {
  "environment": {
   "name": "common-cpu.m80",
   "type": "gcloud",
   "uri": "gcr.io/deeplearning-platform-release/base-cpu:m80"
  },
  "kernelspec": {
   "display_name": "Python [conda env:root] *",
   "language": "python",
   "name": "conda-root-py"
  },
  "language_info": {
   "codemirror_mode": {
    "name": "ipython",
    "version": 3
   },
   "file_extension": ".py",
   "mimetype": "text/x-python",
   "name": "python",
   "nbconvert_exporter": "python",
   "pygments_lexer": "ipython3",
   "version": "3.7.10"
  }
 },
 "nbformat": 4,
 "nbformat_minor": 5
}
