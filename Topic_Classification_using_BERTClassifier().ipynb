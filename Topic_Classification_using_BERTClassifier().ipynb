{
  "nbformat": 4,
  "nbformat_minor": 5,
  "metadata": {
    "accelerator": "GPU",
    "colab": {
      "name": "Topic Classification using BERTClassifier().ipynb",
      "provenance": [],
      "collapsed_sections": []
    },
    "kernelspec": {
      "display_name": "Python 3",
      "language": "python",
      "name": "python3"
    },
    "language_info": {
      "codemirror_mode": {
        "name": "ipython",
        "version": 3
      },
      "file_extension": ".py",
      "mimetype": "text/x-python",
      "name": "python",
      "nbconvert_exporter": "python",
      "pygments_lexer": "ipython3",
      "version": "3.8.8"
    },
    "widgets": {
      "application/vnd.jupyter.widget-state+json": {
        "2bb2b0f90e2c4394ba309634d13c0b18": {
          "model_module": "@jupyter-widgets/controls",
          "model_name": "HBoxModel",
          "model_module_version": "1.5.0",
          "state": {
            "_view_name": "HBoxView",
            "_dom_classes": [],
            "_model_name": "HBoxModel",
            "_view_module": "@jupyter-widgets/controls",
            "_model_module_version": "1.5.0",
            "_view_count": null,
            "_view_module_version": "1.5.0",
            "box_style": "",
            "layout": "IPY_MODEL_788ae25920674bb1955fec0f00f0675a",
            "_model_module": "@jupyter-widgets/controls",
            "children": [
              "IPY_MODEL_161abbcfd5494073bbf998466e176a40",
              "IPY_MODEL_4aee04e130724f969127d5b605aa811e",
              "IPY_MODEL_cbed7d65729c46d394028693634b16ea"
            ]
          }
        },
        "788ae25920674bb1955fec0f00f0675a": {
          "model_module": "@jupyter-widgets/base",
          "model_name": "LayoutModel",
          "model_module_version": "1.2.0",
          "state": {
            "_view_name": "LayoutView",
            "grid_template_rows": null,
            "right": null,
            "justify_content": null,
            "_view_module": "@jupyter-widgets/base",
            "overflow": null,
            "_model_module_version": "1.2.0",
            "_view_count": null,
            "flex_flow": null,
            "width": null,
            "min_width": null,
            "border": null,
            "align_items": null,
            "bottom": null,
            "_model_module": "@jupyter-widgets/base",
            "top": null,
            "grid_column": null,
            "overflow_y": null,
            "overflow_x": null,
            "grid_auto_flow": null,
            "grid_area": null,
            "grid_template_columns": null,
            "flex": null,
            "_model_name": "LayoutModel",
            "justify_items": null,
            "grid_row": null,
            "max_height": null,
            "align_content": null,
            "visibility": null,
            "align_self": null,
            "height": null,
            "min_height": null,
            "padding": null,
            "grid_auto_rows": null,
            "grid_gap": null,
            "max_width": null,
            "order": null,
            "_view_module_version": "1.2.0",
            "grid_template_areas": null,
            "object_position": null,
            "object_fit": null,
            "grid_auto_columns": null,
            "margin": null,
            "display": null,
            "left": null
          }
        },
        "161abbcfd5494073bbf998466e176a40": {
          "model_module": "@jupyter-widgets/controls",
          "model_name": "HTMLModel",
          "model_module_version": "1.5.0",
          "state": {
            "_view_name": "HTMLView",
            "style": "IPY_MODEL_e58b579f253b4d48a732b4044c801f63",
            "_dom_classes": [],
            "description": "",
            "_model_name": "HTMLModel",
            "placeholder": "​",
            "_view_module": "@jupyter-widgets/controls",
            "_model_module_version": "1.5.0",
            "value": "Predicting: 100%",
            "_view_count": null,
            "_view_module_version": "1.5.0",
            "description_tooltip": null,
            "_model_module": "@jupyter-widgets/controls",
            "layout": "IPY_MODEL_842f91fa7de24d11bb1cc51ecdc73560"
          }
        },
        "4aee04e130724f969127d5b605aa811e": {
          "model_module": "@jupyter-widgets/controls",
          "model_name": "FloatProgressModel",
          "model_module_version": "1.5.0",
          "state": {
            "_view_name": "ProgressView",
            "style": "IPY_MODEL_6cff8d9586a744979b9e6e42c193d4fb",
            "_dom_classes": [],
            "description": "",
            "_model_name": "FloatProgressModel",
            "bar_style": "success",
            "max": 559,
            "_view_module": "@jupyter-widgets/controls",
            "_model_module_version": "1.5.0",
            "value": 559,
            "_view_count": null,
            "_view_module_version": "1.5.0",
            "orientation": "horizontal",
            "min": 0,
            "description_tooltip": null,
            "_model_module": "@jupyter-widgets/controls",
            "layout": "IPY_MODEL_a692ba1b49cc47d080b319e2ed7c24b6"
          }
        },
        "cbed7d65729c46d394028693634b16ea": {
          "model_module": "@jupyter-widgets/controls",
          "model_name": "HTMLModel",
          "model_module_version": "1.5.0",
          "state": {
            "_view_name": "HTMLView",
            "style": "IPY_MODEL_83e690b90f5746bab9abaebf562a0101",
            "_dom_classes": [],
            "description": "",
            "_model_name": "HTMLModel",
            "placeholder": "​",
            "_view_module": "@jupyter-widgets/controls",
            "_model_module_version": "1.5.0",
            "value": " 559/559 [01:15&lt;00:00,  7.52it/s]",
            "_view_count": null,
            "_view_module_version": "1.5.0",
            "description_tooltip": null,
            "_model_module": "@jupyter-widgets/controls",
            "layout": "IPY_MODEL_c7f25638da4a4496bbd9329edabebf92"
          }
        },
        "e58b579f253b4d48a732b4044c801f63": {
          "model_module": "@jupyter-widgets/controls",
          "model_name": "DescriptionStyleModel",
          "model_module_version": "1.5.0",
          "state": {
            "_view_name": "StyleView",
            "_model_name": "DescriptionStyleModel",
            "description_width": "",
            "_view_module": "@jupyter-widgets/base",
            "_model_module_version": "1.5.0",
            "_view_count": null,
            "_view_module_version": "1.2.0",
            "_model_module": "@jupyter-widgets/controls"
          }
        },
        "842f91fa7de24d11bb1cc51ecdc73560": {
          "model_module": "@jupyter-widgets/base",
          "model_name": "LayoutModel",
          "model_module_version": "1.2.0",
          "state": {
            "_view_name": "LayoutView",
            "grid_template_rows": null,
            "right": null,
            "justify_content": null,
            "_view_module": "@jupyter-widgets/base",
            "overflow": null,
            "_model_module_version": "1.2.0",
            "_view_count": null,
            "flex_flow": null,
            "width": null,
            "min_width": null,
            "border": null,
            "align_items": null,
            "bottom": null,
            "_model_module": "@jupyter-widgets/base",
            "top": null,
            "grid_column": null,
            "overflow_y": null,
            "overflow_x": null,
            "grid_auto_flow": null,
            "grid_area": null,
            "grid_template_columns": null,
            "flex": null,
            "_model_name": "LayoutModel",
            "justify_items": null,
            "grid_row": null,
            "max_height": null,
            "align_content": null,
            "visibility": null,
            "align_self": null,
            "height": null,
            "min_height": null,
            "padding": null,
            "grid_auto_rows": null,
            "grid_gap": null,
            "max_width": null,
            "order": null,
            "_view_module_version": "1.2.0",
            "grid_template_areas": null,
            "object_position": null,
            "object_fit": null,
            "grid_auto_columns": null,
            "margin": null,
            "display": null,
            "left": null
          }
        },
        "6cff8d9586a744979b9e6e42c193d4fb": {
          "model_module": "@jupyter-widgets/controls",
          "model_name": "ProgressStyleModel",
          "model_module_version": "1.5.0",
          "state": {
            "_view_name": "StyleView",
            "_model_name": "ProgressStyleModel",
            "description_width": "",
            "_view_module": "@jupyter-widgets/base",
            "_model_module_version": "1.5.0",
            "_view_count": null,
            "_view_module_version": "1.2.0",
            "bar_color": null,
            "_model_module": "@jupyter-widgets/controls"
          }
        },
        "a692ba1b49cc47d080b319e2ed7c24b6": {
          "model_module": "@jupyter-widgets/base",
          "model_name": "LayoutModel",
          "model_module_version": "1.2.0",
          "state": {
            "_view_name": "LayoutView",
            "grid_template_rows": null,
            "right": null,
            "justify_content": null,
            "_view_module": "@jupyter-widgets/base",
            "overflow": null,
            "_model_module_version": "1.2.0",
            "_view_count": null,
            "flex_flow": null,
            "width": null,
            "min_width": null,
            "border": null,
            "align_items": null,
            "bottom": null,
            "_model_module": "@jupyter-widgets/base",
            "top": null,
            "grid_column": null,
            "overflow_y": null,
            "overflow_x": null,
            "grid_auto_flow": null,
            "grid_area": null,
            "grid_template_columns": null,
            "flex": null,
            "_model_name": "LayoutModel",
            "justify_items": null,
            "grid_row": null,
            "max_height": null,
            "align_content": null,
            "visibility": null,
            "align_self": null,
            "height": null,
            "min_height": null,
            "padding": null,
            "grid_auto_rows": null,
            "grid_gap": null,
            "max_width": null,
            "order": null,
            "_view_module_version": "1.2.0",
            "grid_template_areas": null,
            "object_position": null,
            "object_fit": null,
            "grid_auto_columns": null,
            "margin": null,
            "display": null,
            "left": null
          }
        },
        "83e690b90f5746bab9abaebf562a0101": {
          "model_module": "@jupyter-widgets/controls",
          "model_name": "DescriptionStyleModel",
          "model_module_version": "1.5.0",
          "state": {
            "_view_name": "StyleView",
            "_model_name": "DescriptionStyleModel",
            "description_width": "",
            "_view_module": "@jupyter-widgets/base",
            "_model_module_version": "1.5.0",
            "_view_count": null,
            "_view_module_version": "1.2.0",
            "_model_module": "@jupyter-widgets/controls"
          }
        },
        "c7f25638da4a4496bbd9329edabebf92": {
          "model_module": "@jupyter-widgets/base",
          "model_name": "LayoutModel",
          "model_module_version": "1.2.0",
          "state": {
            "_view_name": "LayoutView",
            "grid_template_rows": null,
            "right": null,
            "justify_content": null,
            "_view_module": "@jupyter-widgets/base",
            "overflow": null,
            "_model_module_version": "1.2.0",
            "_view_count": null,
            "flex_flow": null,
            "width": null,
            "min_width": null,
            "border": null,
            "align_items": null,
            "bottom": null,
            "_model_module": "@jupyter-widgets/base",
            "top": null,
            "grid_column": null,
            "overflow_y": null,
            "overflow_x": null,
            "grid_auto_flow": null,
            "grid_area": null,
            "grid_template_columns": null,
            "flex": null,
            "_model_name": "LayoutModel",
            "justify_items": null,
            "grid_row": null,
            "max_height": null,
            "align_content": null,
            "visibility": null,
            "align_self": null,
            "height": null,
            "min_height": null,
            "padding": null,
            "grid_auto_rows": null,
            "grid_gap": null,
            "max_width": null,
            "order": null,
            "_view_module_version": "1.2.0",
            "grid_template_areas": null,
            "object_position": null,
            "object_fit": null,
            "grid_auto_columns": null,
            "margin": null,
            "display": null,
            "left": null
          }
        }
      }
    }
  },
  "cells": [
    {
      "cell_type": "markdown",
      "metadata": {
        "id": "88dae83a-1c44-48cf-bdd6-f5ac57969da4"
      },
      "source": [
        "### Topic Classification using BERT\n",
        "https://github.com/sandeepsainath/BERT-Classifier-Rasa"
      ],
      "id": "88dae83a-1c44-48cf-bdd6-f5ac57969da4"
    },
    {
      "cell_type": "markdown",
      "metadata": {
        "id": "nKeVCzk3d4wC"
      },
      "source": [
        "BertCLassifier(): is a scikit-learn wrapper to finetune BERT model for text and token sequence tasks based on huggingface pytorch port. \n",
        "- Includes configurable MLP (Multi-layer Perceptron: a feedforward ANN that generates a set out outputs from a set of inputs, uses backpropagation for training) as final classifier/regressor for text and text pair tasks.\n",
        "- Includes token sequence classifier for NER, PoS, and chunking tasks.\n",
        "- Includes SciBERT and BioBERT pretrained models for scientific and biomedical domains."
      ],
      "id": "nKeVCzk3d4wC"
    },
    {
      "cell_type": "markdown",
      "metadata": {
        "id": "Gdn1a_tzjWwJ"
      },
      "source": [
        "## **Installing the Dependencies**"
      ],
      "id": "Gdn1a_tzjWwJ"
    },
    {
      "cell_type": "code",
      "metadata": {
        "id": "hgwZrNnWRJhc"
      },
      "source": [
        "!pip install git+https://github.com/charles9n/bert-sklearn.git"
      ],
      "id": "hgwZrNnWRJhc",
      "execution_count": null,
      "outputs": []
    },
    {
      "cell_type": "code",
      "metadata": {
        "id": "oGlmoXmyn9pL"
      },
      "source": [
        "pip install transformers"
      ],
      "id": "oGlmoXmyn9pL",
      "execution_count": null,
      "outputs": []
    },
    {
      "cell_type": "code",
      "metadata": {
        "colab": {
          "base_uri": "https://localhost:8080/",
          "height": 17
        },
        "id": "2f210e57-a28e-467a-8502-9be574c6d799",
        "outputId": "e76b3142-86f5-4351-ae37-1fdd08273a6f"
      },
      "source": [
        "#Importing the necessary libraries\n",
        "import numpy as np\n",
        "import pandas as pd\n",
        "import matplotlib.pyplot as plt\n",
        "import seaborn as sns\n",
        "\n",
        "#Measuring CPU time \n",
        "import time\n",
        "\n",
        "#Plotly\n",
        "from plotly.subplots import make_subplots\n",
        "import plotly.graph_objects as go\n",
        "import plotly as py\n",
        "import plotly.graph_objs as go\n",
        "import ipywidgets as widgets\n",
        "from scipy import special\n",
        "import plotly.express as px\n",
        "\n",
        "py.offline.init_notebook_mode(connected = True)\n",
        "import scipy.stats as stats\n",
        "\n",
        "import sklearn\n",
        "from sklearn import preprocessing\n",
        "from sklearn.model_selection import train_test_split\n",
        "from sklearn.metrics import classification_report, confusion_matrix, accuracy_score, mean_squared_error\n",
        "from bert_sklearn import BertClassifier\n",
        "from bert_sklearn import load_model\n",
        "\n",
        "import transformers\n",
        "from transformers import TFBertForSequenceClassification, BertTokenizer\n",
        "\n",
        "from tqdm import tqdm\n",
        "import warnings\n",
        "warnings.filterwarnings('ignore')"
      ],
      "id": "2f210e57-a28e-467a-8502-9be574c6d799",
      "execution_count": null,
      "outputs": [
        {
          "output_type": "display_data",
          "data": {
            "text/html": [
              "        <script type=\"text/javascript\">\n",
              "        window.PlotlyConfig = {MathJaxConfig: 'local'};\n",
              "        if (window.MathJax) {MathJax.Hub.Config({SVG: {font: \"STIX-Web\"}});}\n",
              "        if (typeof require !== 'undefined') {\n",
              "        require.undef(\"plotly\");\n",
              "        requirejs.config({\n",
              "            paths: {\n",
              "                'plotly': ['https://cdn.plot.ly/plotly-latest.min']\n",
              "            }\n",
              "        });\n",
              "        require(['plotly'], function(Plotly) {\n",
              "            window._Plotly = Plotly;\n",
              "        });\n",
              "        }\n",
              "        </script>\n",
              "        "
            ]
          },
          "metadata": {}
        }
      ]
    },
    {
      "cell_type": "code",
      "metadata": {
        "colab": {
          "base_uri": "https://localhost:8080/"
        },
        "id": "PBAdUvRKIZkL",
        "outputId": "78a235df-4ffe-43d6-c141-241cf26e6c6c"
      },
      "source": [
        "#Printing the requirements \n",
        "print(\"=======================Library Versions=================================\")\n",
        "print(f'Numpy Version: {np.__version__}')\n",
        "print(f'Pandas Version: {pd.__version__}')\n",
        "print(f'Plotly Version: {py.__version__}')\n",
        "print(f'Sklearn Version: {sklearn.__version__}')\n",
        "print(f'Transformers Version: {transformers.__version__}')"
      ],
      "id": "PBAdUvRKIZkL",
      "execution_count": null,
      "outputs": [
        {
          "output_type": "stream",
          "name": "stdout",
          "text": [
            "=======================Library Versions=================================\n",
            "Numpy Version: 1.19.5\n",
            "Pandas Version: 1.1.5\n",
            "Plotly Version: 4.4.1\n",
            "Sklearn Version: 1.0.1\n",
            "Transformers Version: 4.14.1\n"
          ]
        }
      ]
    },
    {
      "cell_type": "markdown",
      "metadata": {
        "id": "9dfe4e0c-f4ed-4cb0-bd68-0726ac2cc3ea"
      },
      "source": [
        "### Exploratory Data Analysis"
      ],
      "id": "9dfe4e0c-f4ed-4cb0-bd68-0726ac2cc3ea"
    },
    {
      "cell_type": "code",
      "metadata": {
        "id": "Kwg_vu559038"
      },
      "source": [
        "df = pd.read_csv('dummydata.csv')\n",
        "df = df.rename({'Segment': 'Topic'}, axis = 1)\n",
        "df.head(20)"
      ],
      "id": "Kwg_vu559038",
      "execution_count": null,
      "outputs": []
    },
    {
      "cell_type": "code",
      "metadata": {
        "id": "VO-G_8tbQFJ3"
      },
      "source": [
        "fig = px.histogram(df,x='Country', title = \"Distribution of Language\")\n",
        "fig.update_traces(marker_color='mediumpurple')\n",
        "fig.show(renderer='colab')"
      ],
      "id": "VO-G_8tbQFJ3",
      "execution_count": null,
      "outputs": []
    },
    {
      "cell_type": "code",
      "metadata": {
        "id": "BLLN8M4lBrtb"
      },
      "source": [
        "def get_analysis_values(dataframe, columnname):\n",
        "    print(\"============================================Exploratory Data Analysis=====================================================\")\n",
        "    print(f'Shape of the dataframe is {dataframe.shape}')\n",
        "    print()\n",
        "    print(dataframe.info())\n",
        "    print()\n",
        "    print('-----Data labels Distribution----')\n",
        "    print(dataframe[columnname].value_counts())\n",
        "    print()\n",
        "    fig = px.histogram(dataframe,x=columnname, title = \"Distribution of Topics\")\n",
        "    fig.show(renderer='colab')\n",
        "    print(df.describe())\n",
        "    "
      ],
      "id": "BLLN8M4lBrtb",
      "execution_count": null,
      "outputs": []
    },
    {
      "cell_type": "code",
      "metadata": {
        "id": "26473l1RBv_5"
      },
      "source": [
        "get_analysis_values(df,'Topic')"
      ],
      "id": "26473l1RBv_5",
      "execution_count": null,
      "outputs": []
    },
    {
      "cell_type": "code",
      "metadata": {
        "id": "AflqIJFkSBGB",
        "colab": {
          "base_uri": "https://localhost:8080/"
        },
        "outputId": "855fb6b8-f74a-49fa-96dd-2e15e2e59b58"
      },
      "source": [
        "import statistics\n",
        "print(statistics.mean(df.Topic.value_counts().tolist()))"
      ],
      "id": "AflqIJFkSBGB",
      "execution_count": null,
      "outputs": [
        {
          "output_type": "stream",
          "name": "stdout",
          "text": [
            "2786.5\n"
          ]
        }
      ]
    },
    {
      "cell_type": "code",
      "metadata": {
        "id": "CrRW6woxEq4n"
      },
      "source": [
        "def minimum_label_count(dataframe, columnname, min_counts):\n",
        "    label_count = dataframe[columnname].value_counts()\n",
        "    filtered_topics = label_count[label_count <= min_counts].index\n",
        "    topics_not_in_filtered_topics = label_count[label_count > min_counts].index\n",
        "    if len(topics_not_in_filtered_topics) > 0:\n",
        "      print(f'The following topics do not meet the observations threshold {min_counts} and will be removed {list(filtered_topics)}') \n",
        "      df = dataframe[~dataframe[columnname].isin(filtered_topics).values]\n",
        "      if not list(filtered_topics):\n",
        "        print('Enough observations for classification :)')\n",
        "    \n",
        "    print(f'New Shape of the Dataframe {df.shape}')\n",
        "    fig = px.histogram(df,x=columnname, title = \"Distribution of Topics After Minimum Values\")\n",
        "    fig.update_traces(marker_color='mediumpurple')\n",
        "    fig.show(renderer='colab')\n",
        "\n",
        "    return df\n"
      ],
      "id": "CrRW6woxEq4n",
      "execution_count": null,
      "outputs": []
    },
    {
      "cell_type": "code",
      "metadata": {
        "id": "F7h7Ok4P2HNh"
      },
      "source": [
        "df = minimum_label_count(df,'Topic',2786)"
      ],
      "id": "F7h7Ok4P2HNh",
      "execution_count": null,
      "outputs": []
    },
    {
      "cell_type": "code",
      "metadata": {
        "id": "SE0V3BVonsjo"
      },
      "source": [
        "#Label Encoding the unique topic values\n",
        "label_encoder = preprocessing.LabelEncoder()\n",
        "df['Topic'] = label_encoder.fit_transform(df['Topic'])\n",
        "#df = df.groupby('Topic').head(400).reset_index(drop=True)\n",
        "df.head()"
      ],
      "id": "SE0V3BVonsjo",
      "execution_count": null,
      "outputs": []
    },
    {
      "cell_type": "code",
      "source": [
        "#To order elements in an array in ascending order for forming the confusion matrix == in case of multi-lingual dataset.\n",
        "def selection_sort(x):\n",
        "    for i in range(len(x)):\n",
        "        swap = i + np.argmin(x[i:])\n",
        "        (x[i], x[swap]) = (x[swap], x[i])\n",
        "    return x"
      ],
      "metadata": {
        "id": "60Wo3TdUtyI4"
      },
      "id": "60Wo3TdUtyI4",
      "execution_count": null,
      "outputs": []
    },
    {
      "cell_type": "code",
      "metadata": {
        "id": "iW1nOHS784fO"
      },
      "source": [
        "seed = 42\n",
        "\n",
        "#Train-Test Split \n",
        "X = (np.array(df['Keyword']))\n",
        "y = (np.array(df['Topic']))\n",
        "\n",
        "X_train, X_test, y_train, y_test = train_test_split(X, y, test_size = 0.2, random_state = seed)\n",
        "print(f'Train Dataset Shape {X_train.shape}\\n Test Dataset Shape {X_test.shape}')"
      ],
      "id": "iW1nOHS784fO",
      "execution_count": null,
      "outputs": []
    },
    {
      "cell_type": "code",
      "metadata": {
        "id": "g6ARJyVbvRKI"
      },
      "source": [
        "split_train = pd.DataFrame({'X_train': X_train, 'y_train': y_train})\n",
        "split_test = pd.DataFrame({'X_test': X_test, 'y_test': y_test})\n",
        "split_test['y_test'] = label_encoder.inverse_transform(y_test)\n",
        "split_test.head(10)"
      ],
      "id": "g6ARJyVbvRKI",
      "execution_count": null,
      "outputs": []
    },
    {
      "cell_type": "code",
      "metadata": {
        "id": "yW7puUlC40DL"
      },
      "source": [
        "fig = px.histogram(split_test,x='y_test', title = \"Distribution of Topics in Test Set\")\n",
        "fig.show(renderer='colab')"
      ],
      "id": "yW7puUlC40DL",
      "execution_count": null,
      "outputs": []
    },
    {
      "cell_type": "code",
      "metadata": {
        "id": "XXc0sltBPzcx"
      },
      "source": [
        "start = time.process_time()\n",
        "# your code here    \n",
        "model = BertClassifier()\n",
        "model.epochs = 1\n",
        "model.validation_fraction = 0.05\n",
        "model.learning_rate = 2e-5\n",
        "model.max_seq_length = 128\n",
        "\n",
        "print(f'\\n {model}\\n')\n",
        "\n",
        "#Fit the model \n",
        "history = model.fit(X_train,y_train)\n",
        "\n",
        "#Make Predictions \n",
        "y_pred = model.predict(X_test)\n",
        "print()\n",
        "print(time.process_time() - start)"
      ],
      "id": "XXc0sltBPzcx",
      "execution_count": null,
      "outputs": []
    },
    {
      "cell_type": "code",
      "metadata": {
        "colab": {
          "base_uri": "https://localhost:8080/",
          "height": 49,
          "referenced_widgets": [
            "2bb2b0f90e2c4394ba309634d13c0b18",
            "788ae25920674bb1955fec0f00f0675a",
            "161abbcfd5494073bbf998466e176a40",
            "4aee04e130724f969127d5b605aa811e",
            "cbed7d65729c46d394028693634b16ea",
            "e58b579f253b4d48a732b4044c801f63",
            "842f91fa7de24d11bb1cc51ecdc73560",
            "6cff8d9586a744979b9e6e42c193d4fb",
            "a692ba1b49cc47d080b319e2ed7c24b6",
            "83e690b90f5746bab9abaebf562a0101",
            "c7f25638da4a4496bbd9329edabebf92"
          ]
        },
        "id": "0i2R-BVbIJZA",
        "outputId": "38dc0d9c-cf6c-4576-dc42-0d3f69383c85"
      },
      "source": [
        "#Predictions on the train set \n",
        "y_pred_train = model.predict(X_train)"
      ],
      "id": "0i2R-BVbIJZA",
      "execution_count": null,
      "outputs": [
        {
          "output_type": "display_data",
          "data": {
            "application/vnd.jupyter.widget-view+json": {
              "model_id": "2bb2b0f90e2c4394ba309634d13c0b18",
              "version_minor": 0,
              "version_major": 2
            },
            "text/plain": [
              "Predicting:   0%|          | 0/559 [00:00<?, ?it/s]"
            ]
          },
          "metadata": {}
        }
      ]
    },
    {
      "cell_type": "code",
      "metadata": {
        "id": "D9QyQUOPdlWL"
      },
      "source": [
        "import datetime\n",
        "str(datetime.timedelta(seconds=1167.469936122))"
      ],
      "id": "D9QyQUOPdlWL",
      "execution_count": null,
      "outputs": []
    },
    {
      "cell_type": "code",
      "metadata": {
        "id": "c0BnjaOUOUVZ"
      },
      "source": [
        "\n",
        "\n",
        "#Model's Performance dataset\n",
        "dataset = ['name of the dataset']\n",
        "language = ['Multi-lingual','Multi-lingual']\n",
        "type = ['full', 'avg topics']\n",
        "epochs = 1,1\n",
        "sample = 0.80,0.80\n",
        "train_accuracy = [98.4, 99.68]\n",
        "test_accuracy = [97.7, 99.59] \n",
        "loss_val = [1.21,0.024]\n",
        "time_taken = ['0:30:18', '0:19:27']\n",
        "\n",
        "re_df = pd.DataFrame({'Dataset_Name': dataset, 'language': language, 'type':type, 'epochs': epochs, 'split': sample, 'train_acc': train_accuracy,'test_acc': test_accuracy, 'loss_val': loss_val, 'time_taken': time_taken})\n",
        "re_df"
      ],
      "id": "c0BnjaOUOUVZ",
      "execution_count": null,
      "outputs": []
    },
    {
      "cell_type": "code",
      "metadata": {
        "id": "F6V8Q1T3Syu-"
      },
      "source": [
        "print(f'Mean Squared Error {mean_squared_error(y_test,y_pred)}')\n",
        "print(f'Train Set Accuracy Score: {accuracy_score(y_train, y_pred_train)*100}')\n",
        "print(f'Test Set Accuracy Score {accuracy_score(y_pred, y_test)*100}')\n",
        "print(\"=====================================================================\")\n",
        "print(f'Classification Report')\n",
        "print(classification_report(y_test,y_pred))"
      ],
      "id": "F6V8Q1T3Syu-",
      "execution_count": null,
      "outputs": []
    },
    {
      "cell_type": "code",
      "metadata": {
        "id": "u73G3hbzvXdN"
      },
      "source": [
        "def plot_confusion_matrix(model, true, predicted, xfig, yfig, title):\n",
        "    fig,ax=plt.subplots(figsize=(xfig,yfig))\n",
        "    #plt.figure(figsize=(xfig,yfig))\n",
        "    sns.heatmap(confusion_matrix(predicted, true),annot=True,fmt='d',cmap=\"PiYG\")\n",
        "    plt.ylabel('True Values')\n",
        "    plt.xlabel('Predicted Values')\n",
        "    plt.title(title)\n",
        "    topic = label_encoder.inverse_transform(df.Topic.unique())\n",
        "    ax.xaxis.set_ticklabels(topic) \n",
        "    ax.yaxis.set_ticklabels(topic)\n",
        "    plt.xticks(rotation=90, ha='right')\n",
        "    plt.yticks(rotation=360, ha='right')\n",
        "    plt.show();"
      ],
      "id": "u73G3hbzvXdN",
      "execution_count": null,
      "outputs": []
    },
    {
      "cell_type": "code",
      "metadata": {
        "id": "QZjv8LPyuq0q"
      },
      "source": [
        "plot_confusion_matrix(model,y_test,y_pred,15,10,\"Confusion Matrix of Test Set\");"
      ],
      "id": "QZjv8LPyuq0q",
      "execution_count": null,
      "outputs": []
    },
    {
      "cell_type": "code",
      "metadata": {
        "id": "6TiGArHPoftO"
      },
      "source": [
        "plot_confusion_matrix(model,y_train,y_pred_train,15,8, \"Confusion Matrix on Train Set\");"
      ],
      "id": "6TiGArHPoftO",
      "execution_count": null,
      "outputs": []
    },
    {
      "cell_type": "code",
      "metadata": {
        "id": "xDnYLuI5C8c3"
      },
      "source": [
        "#Predicting new topics with keywords as the input\n",
        "def predict_new_topics(keywords):\n",
        "  \"\"\" Function to predict new topics \n",
        "  Parameters:\n",
        "  Input  (Keywords): Takes in keywords in a list \n",
        "  Output (Topics): Maps the corresponding topic and prints a dataframe\n",
        "  \"\"\"\n",
        "  \n",
        "  predictions = model.predict(keywords)\n",
        "  topic = label_encoder.inverse_transform(predictions)\n",
        "\n",
        "  for key, topicpred in zip(keywords,topic):\n",
        "    predict_df = pd.DataFrame()\n",
        "    predict_df['keyword'] = keywords\n",
        "    predict_df['pred_topic'] = topic\n",
        "  return predict_df\n"
      ],
      "id": "xDnYLuI5C8c3",
      "execution_count": null,
      "outputs": []
    },
    {
      "cell_type": "code",
      "metadata": {
        "id": "hUua2SQNyr_8"
      },
      "source": [
        "keywords = [\"enter your keywords you want to be classified into\"\n",
        "]\n",
        "predict_new_topics(keywords)"
      ],
      "id": "hUua2SQNyr_8",
      "execution_count": null,
      "outputs": []
    },
    {
      "cell_type": "code",
      "metadata": {
        "id": "DCf7z8MgC2UI"
      },
      "source": [
        " #Train Set Results\n",
        "\n",
        "#Inverse Labelling of the test labels \n",
        "y_pred = label_encoder.inverse_transform(y_pred)\n",
        "y_test = label_encoder.inverse_transform(y_test)\n",
        "\n",
        "\n",
        "testdf = pd.DataFrame({'Keywords': X_test,'predicted_topics':y_pred,'topics': y_test})\n",
        "testdf.head(10)"
      ],
      "id": "DCf7z8MgC2UI",
      "execution_count": null,
      "outputs": []
    },
    {
      "cell_type": "code",
      "metadata": {
        "id": "mmXZvNQzDEyw"
      },
      "source": [
        "#Inverse Labelling of the train labels\n",
        "y_pred_train = label_encoder.inverse_transform(y_pred_train)\n",
        "y_train = label_encoder.inverse_transform(y_train)\n",
        "\n",
        "traindf = pd.DataFrame({'Keywords': X_train,'predicted_topics':y_pred_train,'topics': y_train})\n",
        "traindf.head(10)"
      ],
      "id": "mmXZvNQzDEyw",
      "execution_count": null,
      "outputs": []
    },
    {
      "cell_type": "code",
      "metadata": {
        "id": "qGA7N2eJDOPW"
      },
      "source": [
        "#Concatenating test and train dfs along rows\n",
        "result_df = pd.concat([traindf,testdf], axis =0)\n",
        "result_df.head(20)"
      ],
      "id": "qGA7N2eJDOPW",
      "execution_count": null,
      "outputs": []
    },
    {
      "cell_type": "code",
      "metadata": {
        "id": "zVEoVzIoHhTY"
      },
      "source": [
        "#Analysing the results\n",
        "result_df['condition'] = (result_df['predicted_topics'] != result_df['topics'])\n",
        "result_df_cond = result_df[result_df.condition]\n",
        "result_df_cond.head(20)"
      ],
      "id": "zVEoVzIoHhTY",
      "execution_count": null,
      "outputs": []
    },
    {
      "cell_type": "code",
      "metadata": {
        "id": "wjJVhuMUoKFj"
      },
      "source": [
        "result_df_cond.shape"
      ],
      "id": "wjJVhuMUoKFj",
      "execution_count": null,
      "outputs": []
    },
    {
      "cell_type": "code",
      "metadata": {
        "id": "UxznJlGZiAFS"
      },
      "source": [
        "def return_top_n_pred_prob_df(n, model, docs, column_name):\n",
        "  '''\n",
        "  Function to predict the top n topics for a specific keyword with it's accuracy score \n",
        "  Parameters: \n",
        "    Input: \n",
        "      a) n = Top n topic classes you want \n",
        "      b) model = the model you have trained your dataset on\n",
        "      c) docs = the keywords on which you want to predict the top n topics \n",
        "      d) column_name = name of the column in the resultant df which takes in this as it's input for naming it\n",
        "\n",
        "    Output: A dataframe with keywords and their corresponding topic names with its associated percentage accuracy.\n",
        "  '''\n",
        "  predictions = model.predict_proba(docs)\n",
        "  preds_idx = np.argsort(-predictions, axis = 1) \n",
        "  top_n_preds = pd.DataFrame()\n",
        "\n",
        "\n",
        "  for i in range(n):\n",
        "    top_n_preds['keywords'] = docs\n",
        "    top_n_preds[column_name + \"_\" + '{}'.format(i)] =  [preds_idx[doc][i] for doc in range(len(docs))]\n",
        "    top_n_preds[column_name + \"_\" + '{}_prob'.format(i)] = [predictions[doc][preds_idx[doc][i]] for doc in range(len(docs))]\n",
        "    \n",
        "    top_n_preds = top_n_preds.rename(columns={'class_name': column_name + ''.format(i)})\n",
        "    try: top_n_preds.drop(columns=['index', column_name + '_prediction_{}_num'.format(i)], inplace=True) \n",
        "    except: pass\n",
        "  return top_n_preds"
      ],
      "id": "UxznJlGZiAFS",
      "execution_count": null,
      "outputs": []
    },
    {
      "cell_type": "code",
      "metadata": {
        "id": "olb1t-84i8Y0"
      },
      "source": [
        "topn_topics = return_top_n_pred_prob_df(2, model, result_df_cond['Keywords'], 'topics')\n",
        "\n",
        "#Forming the column topic as a list to inverse transform \n",
        "topics_0 = topn_topics['topics_0'].tolist()\n",
        "topics_0 = label_encoder.inverse_transform(topics_0)\n",
        "\n",
        "topics_1 = topn_topics['topics_1'].tolist()\n",
        "topics_1 = label_encoder.inverse_transform(topics_1)\n",
        "\n",
        "#Assigning the new converted topic names to the column\n",
        "topn_topics['topics_0'] = topics_0\n",
        "topn_topics['topics_1'] = topics_1\n",
        "\n",
        "#merge it with the original data to get languages \n",
        "topn_topics = pd.merge(topn_topics,df, left_index=True, right_index=True)\n",
        "topn_topics = topn_topics[['keywords', 'topics_0','topics_0_prob','topics_1','topics_1_prob']]\n",
        "\n",
        "topn_topics.head(20)"
      ],
      "id": "olb1t-84i8Y0",
      "execution_count": null,
      "outputs": []
    },
    {
      "cell_type": "code",
      "metadata": {
        "id": "Uxy634Yv7SBG"
      },
      "source": [
        "topn_topics.to_csv(\"/content/drive/MyDrive/topn_all_topics.csv\", index=False)"
      ],
      "id": "Uxy634Yv7SBG",
      "execution_count": null,
      "outputs": []
    },
    {
      "cell_type": "code",
      "metadata": {
        "id": "QJzD0dfeAC67"
      },
      "source": [
        "#save model to disk\n",
        "#savefile = '/data/test.bin'\n",
        "#model.save(savefile)\n",
        "\n",
        "# load model from disk\n",
        "#new_model = load_model(savefile)\n",
        "\n",
        "# predict with new model\n",
        "#accy = new_model.score(X_test, y_test)\n",
        "#Loading model from /data/test.bin..."
      ],
      "id": "QJzD0dfeAC67",
      "execution_count": null,
      "outputs": []
    },
    {
      "cell_type": "markdown",
      "metadata": {
        "id": "15qU6poMrsV6"
      },
      "source": [
        "--------------"
      ],
      "id": "15qU6poMrsV6"
    },
    {
      "cell_type": "markdown",
      "metadata": {
        "id": "mJVE6MbzpG6k"
      },
      "source": [
        "The topics in our dataset have keyword count varying from 4 to 30K. Therefore, it would be interesting to see how the count of keywords affects the classification of topics. \n",
        "\n",
        "Making acroynm `M(T,K)` where T = the number of unique topics and K is the associated number of keywords in it. \n",
        "\n",
        "*Use Cases:* \n",
        "1. *M(10,100)*\n",
        "2. *M(10,218)*\n",
        "3. *M(8,500)*\n",
        "4. *M(4,1000)*\n",
        " "
      ],
      "id": "mJVE6MbzpG6k"
    },
    {
      "cell_type": "code",
      "metadata": {
        "id": "5ij8HCwvHZzH"
      },
      "source": [
        "#Results dataframe of different use case \n",
        "use_case = ['M(10,100)','M(10,100)','M(10,218)','M(10,218)','M(8,500)','M(8,500)','M(4,1000)','M(4,1000)','All']\n",
        "epochs = [1,4,1,4,1,4,1,4,1]\n",
        "lr = ['2e-5','2e-5','2e-5','2e-5','2e-5','2e-5','2e-5','2e-5','2e-5']\n",
        "f1_score = [0.14,0.87,0.63,0.90,0.87,0.97,0.99,0.99,0.98]\n",
        "loss_value = [12.26, 2.54,5.73,1.67, 1.43,0.28,0.021,0.001,0.40]\n",
        "model_perf_df = pd.DataFrame({'use_case': use_case,'epochs':epochs,'lr':lr, 'f1_score':f1_score,'loss_value':loss_value})\n",
        "model_perf_df.head(10)"
      ],
      "id": "5ij8HCwvHZzH",
      "execution_count": null,
      "outputs": []
    },
    {
      "cell_type": "code",
      "metadata": {
        "id": "XH5PAx_d_Z9x"
      },
      "source": [
        "fig = px.line(model_perf_df, x=\"use_case\", y=\"f1_score\", color='epochs', title = \"f1-score Throughout Different Use Cases\",width=800, height=400)\n",
        "fig.show(renderer='colab')"
      ],
      "id": "XH5PAx_d_Z9x",
      "execution_count": null,
      "outputs": []
    },
    {
      "cell_type": "code",
      "metadata": {
        "id": "VrwNdYH9Asqr"
      },
      "source": [
        "fig = px.line(model_perf_df, x=\"use_case\", y=\"loss_value\", color='epochs', title = \"Loss Value Throughout Different Use Cases\",width=800, height=400)\n",
        "fig.show(renderer='colab')"
      ],
      "id": "VrwNdYH9Asqr",
      "execution_count": null,
      "outputs": []
    },
    {
      "cell_type": "code",
      "source": [
        "py.plot(fig, filename = 'Loss Value of Use Cases', auto_open = True)"
      ],
      "metadata": {
        "id": "NNAYF-Lec3bv"
      },
      "id": "NNAYF-Lec3bv",
      "execution_count": null,
      "outputs": []
    }
  ]
}