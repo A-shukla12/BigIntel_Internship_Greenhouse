{
 "cells": [
  {
   "cell_type": "code",
   "execution_count": null,
   "id": "35add85b-8733-49e8-87fa-8dec555f4590",
   "metadata": {},
   "outputs": [],
   "source": [
    "<h2 align=center> Topic Modelling with BERTopic B2B Case</h2>"
   ]
  },
  {
   "cell_type": "code",
   "execution_count": null,
   "id": "0c964509-fdf9-4300-97ab-013d1401b82b",
   "metadata": {},
   "outputs": [],
   "source": [
    "<div align=\"center\">\n",
    "    <img width=\"1112px\" src='Capture.PNG' />\n",
    "    <p style=\"text-align: center;color:gray\">Figure 1: BERTopic() Topic Modelling</p>\n",
    "</div>"
   ]
  },
  {
   "cell_type": "code",
   "execution_count": null,
   "id": "2c9daddb-80a3-4b25-a552-bcee32963425",
   "metadata": {},
   "outputs": [],
   "source": [
    "### Installing the dependencies"
   ]
  },
  {
   "cell_type": "code",
   "execution_count": null,
   "id": "773c789c-3a49-4629-8486-c593693a5102",
   "metadata": {
    "collapsed": true,
    "jupyter": {
     "outputs_hidden": true
    },
    "tags": []
   },
   "outputs": [],
   "source": [
    "### Installing all the dependencies \n",
    "!pip install bertopic[visualization] --quiet"
   ]
  },
  {
   "cell_type": "code",
   "execution_count": null,
   "id": "ca786d7f-1c32-417d-8985-e91fd5d89e95",
   "metadata": {
    "collapsed": true,
    "jupyter": {
     "outputs_hidden": true
    },
    "tags": []
   },
   "outputs": [],
   "source": [
    "pip install pip==8.1.1"
   ]
  },
  {
   "cell_type": "code",
   "execution_count": null,
   "id": "c61f8849-7f75-4e3a-a3c1-baa866166ab1",
   "metadata": {
    "tags": []
   },
   "outputs": [],
   "source": [
    "pip install numpy==1.20"
   ]
  },
  {
   "cell_type": "code",
   "execution_count": null,
   "id": "1817ccc5-22d4-45fa-9787-65948d55be8d",
   "metadata": {},
   "outputs": [],
   "source": [
    "!pip install WordCloud\n",
    "from wordcloud import WordCloud"
   ]
  },
  {
   "cell_type": "code",
   "execution_count": null,
   "id": "c98251bf-a4ba-4883-a3bc-5298366c7d6a",
   "metadata": {},
   "outputs": [],
   "source": [
    "pip install openpyxl"
   ]
  },
  {
   "cell_type": "code",
   "execution_count": null,
   "id": "934f6ca1-036d-4c61-bd5c-7cb9277901d0",
   "metadata": {},
   "outputs": [],
   "source": [
    "#Importing Libraries\n",
    "import numpy as np \n",
    "import pandas as pd\n",
    "from ast import literal_eval\n",
    "import openpyxl\n",
    "from copy import deepcopy\n",
    "from bertopic import BERTopic\n",
    "\n",
    "import matplotlib.pyplot as plt\n",
    "\n",
    "import plotly as py\n",
    "import plotly.graph_objs as go\n",
    "import ipywidgets as widgets\n",
    "from scipy import special\n",
    "import plotly.express as px\n",
    "\n",
    "py.offline.init_notebook_mode(connected = True)\n",
    "%matplotlib inline"
   ]
  },
  {
   "cell_type": "markdown",
   "id": "433f8e3d-8f75-4509-9a88-1000c2c48b9e",
   "metadata": {},
   "source": [
    "### Loading the Dataset and Analysing"
   ]
  },
  {
   "cell_type": "code",
   "execution_count": null,
   "id": "ee145c5c-010e-46f2-8cb9-2f9933386d16",
   "metadata": {
    "tags": []
   },
   "outputs": [],
   "source": [
    "df = pd.read_excel('df')\n",
    "df.head(20)"
   ]
  },
  {
   "cell_type": "code",
   "execution_count": null,
   "id": "910bd0dc-0547-414f-a079-1051cb31d9af",
   "metadata": {},
   "outputs": [],
   "source": [
    "df.info()"
   ]
  },
  {
   "cell_type": "code",
   "execution_count": null,
   "id": "8eff0bd8-5d29-46dd-bd38-2bbf53fbd9b3",
   "metadata": {},
   "outputs": [],
   "source": [
    "wordcloud2 = WordCloud().generate(' '.join(df['col1']))\n",
    "plt.figure(figsize = (10, 8), facecolor = None)\n",
    "plt.imshow(wordcloud2)\n",
    "plt.axis(\"off\")\n",
    "plt.show()"
   ]
  },
  {
   "cell_type": "markdown",
   "id": "f4f830d5-7e98-44d2-949f-3fdc4078ec44",
   "metadata": {},
   "source": [
    "### `Use Case 1`: Input Keywords aka col1 column"
   ]
  },
  {
   "cell_type": "code",
   "execution_count": null,
   "id": "11f22b0a-2020-4671-8b4f-a9cad31f2be9",
   "metadata": {},
   "outputs": [],
   "source": [
    "docs = list(df.loc[:,'col1'].values)\n",
    "docs[:5]"
   ]
  },
  {
   "cell_type": "code",
   "execution_count": null,
   "id": "60c512a4-a843-4fbb-9cec-03cf05aa2eb1",
   "metadata": {},
   "outputs": [],
   "source": [
    "len(docs)"
   ]
  },
  {
   "cell_type": "markdown",
   "id": "2ebd1526-6bd6-4ed6-ad99-ae2b81e58e8d",
   "metadata": {},
   "source": [
    "The default embedding model for english is `all-MiniLM-L6-v2`. While for multi-lingual it is `paraphrase-multilingual-MiniLM-L12-v2`."
   ]
  },
  {
   "cell_type": "code",
   "execution_count": null,
   "id": "0226d6af-9daf-43f0-abad-90c469aa8ded",
   "metadata": {},
   "outputs": [],
   "source": [
    "model = BERTopic(embedding_model = \"paraphrase-multilingual-mpnet-base-v2\",language=\"multilingual\",calculate_probabilities=True,verbose=True)"
   ]
  },
  {
   "cell_type": "code",
   "execution_count": null,
   "id": "95d2d3c8-18d4-4003-a095-445e7445b9ce",
   "metadata": {},
   "outputs": [],
   "source": [
    "topics, probs = model.fit_transform(docs)"
   ]
  },
  {
   "cell_type": "code",
   "execution_count": null,
   "id": "ce17a2fe-cd8a-4e9d-950f-3642b8234a20",
   "metadata": {},
   "outputs": [],
   "source": [
    "input_topics_freq = model.get_topic_info()"
   ]
  },
  {
   "cell_type": "code",
   "execution_count": null,
   "id": "c9e9d9ca-46d2-4d36-a84c-9c856ae94eaa",
   "metadata": {},
   "outputs": [],
   "source": [
    "fig = px.bar(input_topics_freq,x='Topic',y='Count', title = 'Distribution of Input Topic Generated')\n",
    "fig.show()"
   ]
  },
  {
   "cell_type": "code",
   "execution_count": null,
   "id": "2fb5c8b0-6f6d-408a-9be9-7d6463ccb6e5",
   "metadata": {},
   "outputs": [],
   "source": [
    "model.visualize_barchart(topics = [-1])"
   ]
  },
  {
   "cell_type": "markdown",
   "id": "4eec45d4-4910-4318-b435-186d5d707eb7",
   "metadata": {},
   "source": [
    "### `Use Case 02`: After Transformation aka Discovering New Possible Topics {Topics Column}"
   ]
  },
  {
   "cell_type": "code",
   "execution_count": null,
   "id": "927482de-ef36-4e31-b386-afbb785155f7",
   "metadata": {},
   "outputs": [],
   "source": [
    "#removes the '' from string set values\n",
    "df['col2'] = df.col2.apply(lambda x: literal_eval(str(x)))\n",
    "df.head(20)"
   ]
  },
  {
   "cell_type": "code",
   "execution_count": null,
   "id": "48c6ba0a-d35c-4779-8786-b144b7cea811",
   "metadata": {},
   "outputs": [],
   "source": [
    "#Take the new topics column and explode each topic into a new row and add it into a pd Dataframe\n",
    "newdf = df['col2']\n",
    "topics = newdf.explode('col2')\n",
    "topics = pd.DataFrame(topics)\n",
    "topics.head()"
   ]
  },
  {
   "cell_type": "code",
   "execution_count": null,
   "id": "83008a89-1c16-44cf-bbfc-6f75f2fe85af",
   "metadata": {},
   "outputs": [],
   "source": [
    "topics[:3]"
   ]
  },
  {
   "cell_type": "code",
   "execution_count": null,
   "id": "13109119-4c4f-4657-bdff-086c3d1f0e4e",
   "metadata": {},
   "outputs": [],
   "source": [
    "docs = list(topics['col2'])\n",
    "docs[:5]"
   ]
  },
  {
   "cell_type": "code",
   "execution_count": null,
   "id": "7c9428da-d21b-4cc2-9dc7-d36b4f38ed5d",
   "metadata": {},
   "outputs": [],
   "source": [
    "len(docs)"
   ]
  },
  {
   "cell_type": "code",
   "execution_count": null,
   "id": "a88984b9-5ffa-425b-94b3-94d774d9629f",
   "metadata": {},
   "outputs": [],
   "source": [
    "usecase_2_model = BERTopic(language=\"multilingual\",calculate_probabilities=True,verbose=True,nr_topics='auto')"
   ]
  },
  {
   "cell_type": "code",
   "execution_count": null,
   "id": "c0ce14fe-3287-4cf2-a0d7-d58f618b8b0a",
   "metadata": {},
   "outputs": [],
   "source": [
    "topics, probs = usecase_2_model.fit_transform(docs)"
   ]
  },
  {
   "cell_type": "code",
   "execution_count": null,
   "id": "9b1e74b0-1684-4672-b682-ead3e5fb32ff",
   "metadata": {},
   "outputs": [],
   "source": [
    "new_topics_freq = usecase_2_model.get_topic_freq()"
   ]
  },
  {
   "cell_type": "code",
   "execution_count": null,
   "id": "9b63c341-2aaa-4839-98cb-47f96b96a802",
   "metadata": {},
   "outputs": [],
   "source": [
    "fig = px.bar(new_topics_freq,x='col2',y='Count', title = 'Distribution of Topic Generated Uase Case 02')\n",
    "fig.show()"
   ]
  },
  {
   "cell_type": "code",
   "execution_count": null,
   "id": "f545fc2b-7fb3-47b9-b425-bc5451e6cd6d",
   "metadata": {},
   "outputs": [],
   "source": [
    "def representativedocs(model, topics, docs, keywords):\n",
    "    model.get_topic_info()\n",
    "    \n",
    "    #extracting the topic names/numbers \n",
    "    top_names = model.topic_names\n",
    "    top_names = pd.DataFrame(top_names.items(), columns = [topics,docs])\n",
    "    \n",
    "    #extracting representative docs for all the topics \n",
    "    rep_docs = model.representative_docs\n",
    "    rep_docs = pd.DataFrame(rep_docs.items(), columns = [topics, keywords])\n",
    "    \n",
    "    #get topics with probability \n",
    "    top_proba = model.get_topics()\n",
    "    \n",
    "    output = pd.merge(top_names, \n",
    "                rep_docs, \n",
    "                how='left', \n",
    "                left_on='topic_num', \n",
    "                right_on='topic_num')\n",
    "    return output"
   ]
  },
  {
   "cell_type": "code",
   "execution_count": null,
   "id": "f2ac799c-4af5-4535-b371-27094330af11",
   "metadata": {},
   "outputs": [],
   "source": [
    "representativedocs(usecase_2_model, 'topic_num','docs','keywords')"
   ]
  },
  {
   "cell_type": "code",
   "execution_count": null,
   "id": "3c8c47c3-88ca-446b-b3d1-295f5d2e4227",
   "metadata": {},
   "outputs": [],
   "source": [
    "usecase_2_model.visualize_topics()"
   ]
  },
  {
   "cell_type": "code",
   "execution_count": null,
   "id": "6bc82eee-59c7-4469-8d55-afa5e270ce6c",
   "metadata": {},
   "outputs": [],
   "source": [
    "usecase_2_model.visualize_heatmap()"
   ]
  },
  {
   "cell_type": "code",
   "execution_count": null,
   "id": "c369cedc-349f-4e02-878d-44a56b05b074",
   "metadata": {},
   "outputs": [],
   "source": [
    "usecase_2_model.visualize_barchart(topics = [1,2,3,46,47,48])"
   ]
  },
  {
   "cell_type": "code",
   "execution_count": null,
   "id": "f8297149-ace1-4312-ba78-b55ea2c4443b",
   "metadata": {},
   "outputs": [],
   "source": [
    "usecase_2_model.get_topic(11)[:10]"
   ]
  },
  {
   "cell_type": "markdown",
   "id": "36504411-b32b-4a5c-953f-0c3900194d90",
   "metadata": {},
   "source": [
    "### `Use Case 03`: After Transformation aka Discovering New Possible Topics {col2 Column}"
   ]
  },
  {
   "cell_type": "code",
   "execution_count": null,
   "id": "de65afa9-4276-4475-ba5e-66c738ed1aeb",
   "metadata": {},
   "outputs": [],
   "source": [
    "#removes the '' from string set values\n",
    "df['col3'] = df.col3.apply(lambda x: literal_eval(str(x)))\n",
    "df.head(20)"
   ]
  },
  {
   "cell_type": "code",
   "execution_count": null,
   "id": "aa378546-6093-45b6-bf30-18964dd0464a",
   "metadata": {},
   "outputs": [],
   "source": [
    "#Take the new topics column and explode each topic into a new row and add it into a pd Dataframe\n",
    "df2 = df['col3']\n",
    "topics2 = df2.explode('col3')\n",
    "topics2 = pd.DataFrame(topics2)\n",
    "topics2.head()"
   ]
  },
  {
   "cell_type": "code",
   "execution_count": null,
   "id": "f9c50863-0858-4f5f-a804-314e9ee1f4b2",
   "metadata": {},
   "outputs": [],
   "source": [
    "docs_2 = list(topics2['col3'])\n",
    "docs_2[:2]\n",
    "print(len(docs_2))"
   ]
  },
  {
   "cell_type": "code",
   "execution_count": null,
   "id": "9ec053a3-1c6c-42d0-9e6b-f710f3a7e835",
   "metadata": {},
   "outputs": [],
   "source": [
    "usecase_3_model = BERTopic(language=\"multilingual\",calculate_probabilities=True,verbose=True,nr_topics='auto')\n",
    "topics, probs = usecase_3_model.fit_transform(docs_2)"
   ]
  },
  {
   "cell_type": "code",
   "execution_count": null,
   "id": "ca61deea-96e7-4e48-afac-dab73eb9cc0e",
   "metadata": {},
   "outputs": [],
   "source": [
    "topics_freq_3_use = usecase_3_model.get_topic_freq()\n",
    "topics_freq_3_use"
   ]
  },
  {
   "cell_type": "code",
   "execution_count": null,
   "id": "ab6a2fce-0427-42bd-ba26-cacaca6454f4",
   "metadata": {},
   "outputs": [],
   "source": [
    "fig = px.bar(topics_freq_3_use,x='Topic',y='Count', title = 'Distribution of Topic Generated UseCase 03')\n",
    "fig.show()"
   ]
  },
  {
   "cell_type": "code",
   "execution_count": null,
   "id": "6c25dfc0-cc48-4146-b0b6-478cbcbffb57",
   "metadata": {},
   "outputs": [],
   "source": [
    "usecase_3_model.visualize_barchart(topics = [-1,0,1,2,3,4])"
   ]
  },
  {
   "cell_type": "code",
   "execution_count": null,
   "id": "d73fee0b-f56c-4c15-9a91-8403bc3e369f",
   "metadata": {},
   "outputs": [],
   "source": [
    "usecase_3_model.visualize_topics()"
   ]
  },
  {
   "cell_type": "code",
   "execution_count": null,
   "id": "136f2d1f-e2da-4ddf-8340-0301a7677c97",
   "metadata": {},
   "outputs": [],
   "source": [
    "usecase_3_model.get_topic(3)"
   ]
  },
  {
   "cell_type": "code",
   "execution_count": null,
   "id": "419ff8e3-515d-4b7b-b13d-8838acbb8b0b",
   "metadata": {},
   "outputs": [],
   "source": [
    "usecase_3_model.get_topic(4)"
   ]
  },
  {
   "cell_type": "code",
   "execution_count": null,
   "id": "13a38c3c-141f-40e9-88d4-e3c667cdda33",
   "metadata": {},
   "outputs": [],
   "source": [
    "usecase_3_model.get_topic(1)"
   ]
  },
  {
   "cell_type": "markdown",
   "id": "388d1fa3-69b1-40fe-97ac-8288b1aede45",
   "metadata": {},
   "source": [
    "### Assigning New Keywords to Topics"
   ]
  },
  {
   "cell_type": "code",
   "execution_count": null,
   "id": "5ea893e9-48cb-4bba-9dbb-85a4c4f61d16",
   "metadata": {},
   "outputs": [],
   "source": [
    "similar_topics, similarity = usecase_3_model.find_topics(\"my account\", top_n=5); \n",
    "print(similar_topics)\n",
    "print(similarity)"
   ]
  },
  {
   "cell_type": "code",
   "execution_count": null,
   "id": "6703df16-4aeb-4c8f-b6f0-ef709c3211f5",
   "metadata": {},
   "outputs": [],
   "source": [
    "usecase_3_model.get_topic(3)"
   ]
  },
  {
   "cell_type": "code",
   "execution_count": null,
   "id": "78cf2957-39aa-45c3-a6f7-2faebf9f5479",
   "metadata": {},
   "outputs": [],
   "source": [
    "topics, similarity = usecase_3_model.find_topics(\"我的賬戶\", top_n=5);\n",
    "print(topics)\n",
    "print(similarity)"
   ]
  },
  {
   "cell_type": "code",
   "execution_count": null,
   "id": "52c0f60b-3de4-4a78-b61d-59a63219d70a",
   "metadata": {},
   "outputs": [],
   "source": []
  }
 ],
 "metadata": {
  "environment": {
   "name": "common-cpu.m80",
   "type": "gcloud",
   "uri": "gcr.io/deeplearning-platform-release/base-cpu:m80"
  },
  "kernelspec": {
   "display_name": "Python [conda env:root] *",
   "language": "python",
   "name": "conda-root-py"
  },
  "language_info": {
   "codemirror_mode": {
    "name": "ipython",
    "version": 3
   },
   "file_extension": ".py",
   "mimetype": "text/x-python",
   "name": "python",
   "nbconvert_exporter": "python",
   "pygments_lexer": "ipython3",
   "version": "3.7.10"
  }
 },
 "nbformat": 4,
 "nbformat_minor": 5
}
